{
 "cells": [
  {
   "cell_type": "code",
   "execution_count": 1,
   "metadata": {},
   "outputs": [],
   "source": [
    "import numpy as np\n",
    "import pandas as pd\n",
    "import sys\n",
    "import random\n",
    "import progressbar\n",
    "import torch\n",
    "import pickle\n",
    "from mytree import *\n",
    "from utils import *\n",
    "from treeUtil import *\n",
    "import tqdm\n",
    "import argparse\n",
    "import torch.nn as nn\n",
    "from torch.autograd import Variable\n",
    "import torch.nn.functional as F\n",
    "from torch.nn.utils import clip_grad_norm_\n",
    "import functools\n",
    "from sklearn.linear_model import LogisticRegression\n",
    "import gensim\n",
    "from gensim.models import KeyedVectors\n",
    "import string\n",
    "from stanfordcorenlp import StanfordCoreNLP\n",
    "import nltk.tree\n",
    "from ast import literal_eval\n",
    "import pptree\n",
    "import logging"
   ]
  },
  {
   "cell_type": "code",
   "execution_count": 2,
   "metadata": {},
   "outputs": [
    {
     "name": "stderr",
     "output_type": "stream",
     "text": [
      "/Library/Frameworks/Python.framework/Versions/3.7/lib/python3.7/site-packages/tensorflow/python/framework/dtypes.py:517: FutureWarning: Passing (type, 1) or '1type' as a synonym of type is deprecated; in a future version of numpy, it will be understood as (type, (1,)) / '(1,)type'.\n",
      "  _np_qint8 = np.dtype([(\"qint8\", np.int8, 1)])\n",
      "/Library/Frameworks/Python.framework/Versions/3.7/lib/python3.7/site-packages/tensorflow/python/framework/dtypes.py:518: FutureWarning: Passing (type, 1) or '1type' as a synonym of type is deprecated; in a future version of numpy, it will be understood as (type, (1,)) / '(1,)type'.\n",
      "  _np_quint8 = np.dtype([(\"quint8\", np.uint8, 1)])\n",
      "/Library/Frameworks/Python.framework/Versions/3.7/lib/python3.7/site-packages/tensorflow/python/framework/dtypes.py:519: FutureWarning: Passing (type, 1) or '1type' as a synonym of type is deprecated; in a future version of numpy, it will be understood as (type, (1,)) / '(1,)type'.\n",
      "  _np_qint16 = np.dtype([(\"qint16\", np.int16, 1)])\n",
      "/Library/Frameworks/Python.framework/Versions/3.7/lib/python3.7/site-packages/tensorflow/python/framework/dtypes.py:520: FutureWarning: Passing (type, 1) or '1type' as a synonym of type is deprecated; in a future version of numpy, it will be understood as (type, (1,)) / '(1,)type'.\n",
      "  _np_quint16 = np.dtype([(\"quint16\", np.uint16, 1)])\n",
      "/Library/Frameworks/Python.framework/Versions/3.7/lib/python3.7/site-packages/tensorflow/python/framework/dtypes.py:521: FutureWarning: Passing (type, 1) or '1type' as a synonym of type is deprecated; in a future version of numpy, it will be understood as (type, (1,)) / '(1,)type'.\n",
      "  _np_qint32 = np.dtype([(\"qint32\", np.int32, 1)])\n",
      "/Library/Frameworks/Python.framework/Versions/3.7/lib/python3.7/site-packages/tensorflow/python/framework/dtypes.py:526: FutureWarning: Passing (type, 1) or '1type' as a synonym of type is deprecated; in a future version of numpy, it will be understood as (type, (1,)) / '(1,)type'.\n",
      "  np_resource = np.dtype([(\"resource\", np.ubyte, 1)])\n",
      "/Library/Frameworks/Python.framework/Versions/3.7/lib/python3.7/importlib/_bootstrap.py:219: RuntimeWarning: compiletime version 3.6 of module 'tensorflow.python.framework.fast_tensor_util' does not match runtime version 3.7\n",
      "  return f(*args, **kwds)\n"
     ]
    }
   ],
   "source": [
    "from nltk.tokenize import word_tokenize\n",
    "import re\n",
    "import os\n",
    "from sklearn.utils import resample\n",
    "from sklearn.preprocessing import LabelEncoder\n",
    "from logger import Logger"
   ]
  },
  {
   "cell_type": "code",
   "execution_count": 3,
   "metadata": {},
   "outputs": [],
   "source": [
    "import spacy\n",
    "from spacy import displacy\n",
    "from collections import Counter\n",
    "import en_core_web_sm\n",
    "from spacy.pipeline import merge_entities\n",
    "nlp = en_core_web_sm.load()\n",
    "nlp.add_pipe(merge_entities)"
   ]
  },
  {
   "cell_type": "code",
   "execution_count": 4,
   "metadata": {},
   "outputs": [],
   "source": [
    "import copy\n",
    "from sklearn.utils import shuffle\n",
    "from sklearn import metrics"
   ]
  },
  {
   "cell_type": "code",
   "execution_count": 23,
   "metadata": {},
   "outputs": [],
   "source": [
    "proanti = True # True if doing pro/anti (ideology classification); False if doing nuetral/non-neutral classification (Step1: Stance Detection)\n",
    "w2vec = False # False if in-domain; True if general\n",
    "ner = True # if replacing named entities with their entity tags\n",
    "blackout = False # if blacking out the named entities\n",
    "balanced = True # if dataset has to be balanced or not\n",
    "undersample = True # True if undersampling, False if oversampling\n",
    "non_trainable = True # if first layer of classifier is fixed\n",
    "economic = True # economic or tech"
   ]
  },
  {
   "cell_type": "code",
   "execution_count": 24,
   "metadata": {},
   "outputs": [
    {
     "data": {
      "text/plain": [
       "'economic_w2v_1ProAnti_0General_1NER_0Blackout_1Balance_1Undersample_1Fixed'"
      ]
     },
     "execution_count": 24,
     "metadata": {},
     "output_type": "execute_result"
    }
   ],
   "source": [
    "# Create a namecode for the model with set parameters\n",
    "dic = {0:'ProAnti', 1:'General', 2:'NER', 3:'Blackout', 4:'Balance', 5:'Undersample', 6:'Fixed'}\n",
    "bool_list = [proanti, w2vec, ner, blackout, balanced, undersample, non_trainable]\n",
    "if economic:\n",
    "    policy = 'economic'\n",
    "else:\n",
    "    policy = 'tech'\n",
    "corpus_path = '../data/new/'+policy\n",
    "namecode = policy+'_w2v'\n",
    "for index, bb in enumerate(bool_list):\n",
    "    namecode += '_'\n",
    "    if bb:\n",
    "        namecode += '1'\n",
    "    else:\n",
    "        namecode += '0'\n",
    "    namecode += dic[index]\n",
    "namecode"
   ]
  },
  {
   "cell_type": "code",
   "execution_count": 7,
   "metadata": {},
   "outputs": [],
   "source": [
    "#For logging\n",
    "import logging\n",
    "\n",
    "#Remove all the previous handlers\n",
    "for handler in logging.root.handlers[:]:\n",
    "    logging.root.removeHandler(handler)\n",
    "\n",
    "#Create the file for logging purposes -> CHANGE THE LEVEL TYPE TO logging.DEBUG when debugging or finding faults\n",
    "logging.basicConfig(filename='log_'+namecode+'.log',\n",
    "                            filemode='a',\n",
    "                            format='%(asctime)s,%(msecs)d %(name)s %(levelname)s %(message)s',\n",
    "                            datefmt='%m/%d/%Y %I:%M:%S %p',\n",
    "                            level=logging.INFO)"
   ]
  },
  {
   "cell_type": "code",
   "execution_count": 8,
   "metadata": {},
   "outputs": [],
   "source": [
    "logger = Logger('./logs_'+namecode)"
   ]
  },
  {
   "cell_type": "code",
   "execution_count": 9,
   "metadata": {},
   "outputs": [],
   "source": [
    "class RecursiveNN(nn.Module):\n",
    "    def __init__(self, word_embeddings, vocab, embedSize=300, numClasses=2, beta = 0.3, use_weight = True, non_trainable = non_trainable):\n",
    "        super(RecursiveNN, self).__init__()\n",
    "        self.embedding = nn.Embedding.from_pretrained(word_embeddings)\n",
    "        self.embedding.weight.requires_grad = True\n",
    "        if non_trainable:\n",
    "            self.embedding.weight.requires_grad = False\n",
    "        else:\n",
    "            self.embedding = nn.Embedding(len(vocab), embedSize)\n",
    "        self.embedding = nn.Embedding(len(vocab), embedSize)\n",
    "        self.W = nn.Linear(2*embedSize, embedSize, bias=True)\n",
    "        self.nonLinear = torch.tanh\n",
    "        self.projection = nn.Linear(embedSize, numClasses, bias=True)\n",
    "        self.nodeProbList = []\n",
    "        self.labelList = []\n",
    "        self.loss = Var(torch.FloatTensor([0]))\n",
    "        self.V = vocab\n",
    "        self.beta = beta\n",
    "        self.use_weight = use_weight\n",
    "        self.total_rep = None #\n",
    "        self.count_rep = 0 #\n",
    "        self.numClasses = numClasses\n",
    "\n",
    "    def traverse(self, node):\n",
    "        if node.isLeaf:\n",
    "            if node.getLeafWord() in self.V:  # check if right word is in vocabulary\n",
    "                word = node.getLeafWord()\n",
    "            else:  # otherwise use the unknown token\n",
    "                word = 'UNK'\n",
    "            # print(self.V[word],len(self.V),word,(torch.LongTensor([int(self.V[word])])))\n",
    "            currentNode = (self.embedding(Var(torch.LongTensor([int(self.V[word])]))))\n",
    "        else: currentNode = self.nonLinear(self.W(torch.cat((self.traverse(node.left),self.traverse(node.right)),1)))\n",
    "        currentNode = currentNode/(torch.norm(currentNode))\n",
    "        assert node.label!=None\n",
    "        self.nodeProbList.append(self.projection(currentNode))\n",
    "        # print (node.label)\n",
    "        self.labelList.append(torch.LongTensor([node.label]))\n",
    "        loss_weight = 1-self.beta if node.annotated else self.beta\n",
    "        self.loss += (loss_weight*F.cross_entropy(input=torch.cat([self.projection(currentNode)]),target=Var(torch.cat([torch.LongTensor([node.label])]))))\n",
    "        if not node.isRoot():\n",
    "            if self.total_rep is None:\n",
    "                self.total_rep = currentNode.data.clone()\n",
    "            else:\n",
    "                self.total_rep += currentNode.data.clone()\n",
    "            self.count_rep += 1\n",
    "        return currentNode   \n",
    "    \n",
    "    def traverse_test(self, node):\n",
    "        if node.isLeaf:\n",
    "            if node.getLeafWord() in self.V:  # check if right word is in vocabulary\n",
    "                word = node.getLeafWord()\n",
    "            else:  # otherwise use the unknown token\n",
    "                word = 'UNK'\n",
    "            # print(self.V[word],len(self.V),word,(torch.LongTensor([int(self.V[word])])))\n",
    "            currentNode = (self.embedding(Var(torch.LongTensor([int(self.V[word])]))))\n",
    "        else: currentNode = self.nonLinear(self.W(torch.cat((self.traverse_test(node.left),self.traverse_test(node.right)),1)))\n",
    "        currentNode = currentNode/(torch.norm(currentNode))\n",
    "#         assert node.label!=None\n",
    "        self.nodeProbList.append(self.projection(currentNode))\n",
    "        loss_weight = 1-self.beta if node.annotated else self.beta\n",
    "\n",
    "        if not node.isRoot():\n",
    "            if self.total_rep is None:\n",
    "                self.total_rep = currentNode.data.clone()\n",
    "            else:\n",
    "                self.total_rep += currentNode.data.clone()\n",
    "            self.count_rep += 1\n",
    "        return currentNode\n",
    "\n",
    "    def forward(self, x):\n",
    "        self.nodeProbList = []\n",
    "        self.labelList = []\n",
    "        self.loss = Var(torch.FloatTensor([0]))\n",
    "        self.traverse(x)\n",
    "        self.labelList = Var(torch.cat(self.labelList))\n",
    "        return torch.cat(self.nodeProbList)\n",
    "\n",
    "    def getLoss(self, tree):\n",
    "        nodes = self.forward(tree)\n",
    "        predictions = nodes.max(dim=1)[1]\n",
    "        loss = self.loss\n",
    "        return predictions,loss\n",
    "\n",
    "    def getRep(self, tree):\n",
    "        self.count_rep = 0\n",
    "        self.total_rep = None\n",
    "        self.nodeProbList = []\n",
    "        self.labelList = []\n",
    "        self.loss = Var(torch.FloatTensor([0]))\n",
    "\n",
    "        root_rep = self.traverse(tree)\n",
    "\n",
    "        return (torch.cat((root_rep,self.total_rep/self.count_rep),1)).data.numpy().T.flatten()\n",
    "\n",
    "        \n",
    "    def predict(self, trees):\n",
    "        pbar = progressbar.ProgressBar(widgets=widgets, maxval=len(trees)).start()\n",
    "        preds = []\n",
    "        for j, tree in enumerate(trees):\n",
    "            nodes = self.forward(tree.root)\n",
    "            predictions = nodes.max(dim=1)[1]\n",
    "#                     print((predictions.cpu().data).numpy(),(predictions.cpu().data).numpy().shape)\n",
    "#                     print((self.labelList.cpu().data).numpy(), (self.labelList.cpu().data).numpy().shape)\n",
    "            preds.append(predictions)\n",
    "            pbar.update(j)\n",
    "        pbar.finish()\n",
    "        return preds\n",
    "\n",
    "\n",
    "    def evaluate(self, trees):\n",
    "            pbar = progressbar.ProgressBar(widgets=widgets, maxval=len(trees)).start()\n",
    "            n = nAll = correctRoot = correctAll = 0.0\n",
    "            tp = [1e-2]*self.numClasses\n",
    "            fp = [1e-2]*self.numClasses\n",
    "            fn = [1e-2]*self.numClasses\n",
    "            f1 = [0.]*self.numClasses\n",
    "            for j, tree in enumerate(trees):\n",
    "                predictions,_ = self.getLoss(tree.root)\n",
    "#                     print((predictions.cpu().data).numpy(),(predictions.cpu().data).numpy().shape)\n",
    "#                     print((self.labelList.cpu().data).numpy(), (self.labelList.cpu().data).numpy().shape)\n",
    "                correct = ((predictions.cpu().data).numpy()==(self.labelList.cpu().data).numpy())\n",
    "#                     print(correct)\n",
    "                correctAll += correct.sum()\n",
    "                nAll += np.shape(correct.squeeze())[0] if np.size(correct)!=1 else 1 \n",
    "                correctRoot += correct.squeeze()[-1] if np.size(correct)!=1 else correct[-1]\n",
    "#                     print(correct.squeeze()[-1] if np.size(correct)!=1 else correct[-1])\n",
    "#                     print('actual: {}'.format(tree.root.label))\n",
    "                for i in range(self.numClasses):\n",
    "                    size = np.size((predictions.cpu().data).numpy())\n",
    "                    if size!=1:\n",
    "                        pred = (predictions.cpu().data).numpy().squeeze()[-1]\n",
    "                        actual = (self.labelList.cpu().data).numpy().squeeze()[-1]\n",
    "                    else:\n",
    "                        pred = (predictions.cpu().data).numpy()[-1]\n",
    "                        actual = (self.labelList.cpu().data).numpy()[-1]\n",
    "                    if pred==i and actual==i:\n",
    "                        tp[i]+=1\n",
    "                    elif pred==i and actual!=i:\n",
    "                        fn[i]+=1\n",
    "                    elif pred==i and actual!=i:\n",
    "                        fp[i]+=1\n",
    "                n += 1\n",
    "                pbar.update(j)\n",
    "#             print(tp,fp,fn)\n",
    "            for i in range(self.numClasses):\n",
    "                p =(1.0*tp[i]/(tp[i]+fp[i]))\n",
    "                r =(1.0*tp[i]/(tp[i]+fn[i]))\n",
    "                f1[i] = (2*p*r)/(p+r)\n",
    "            pbar.finish()\n",
    "            return correctRoot / n, correctAll/nAll, f1\n",
    "\n",
    "    def eval_sent_lvl(self,trees,clf):\n",
    "        pbar = progressbar.ProgressBar(widgets=widgets, maxval=len(trees)).start()\n",
    "        n = nAll = correctRoot = correctAll = 0.0\n",
    "        X_predict = []\n",
    "        Y_gold = []\n",
    "        for j, tree in enumerate(trees):\n",
    "            tree_rep = model.getRep(tree.root)\n",
    "            X_predict.append(tree_rep)\n",
    "            Y_gold.append(tree.root.label)\n",
    "        acc = clf.score(np.array(X_predict),np.array(Y_gold))\n",
    "        return acc"
   ]
  },
  {
   "cell_type": "markdown",
   "metadata": {},
   "source": [
    "## Data Preprocessing"
   ]
  },
  {
   "cell_type": "markdown",
   "metadata": {},
   "source": [
    "Import the following:\n",
    "- file containing dependency trees of sentences to be classified (trees can be createdd using make-trees)\n",
    "- dataframe containing information about the text and label of the corresponding trees"
   ]
  },
  {
   "cell_type": "code",
   "execution_count": 10,
   "metadata": {},
   "outputs": [
    {
     "data": {
      "text/html": [
       "<div>\n",
       "<style scoped>\n",
       "    .dataframe tbody tr th:only-of-type {\n",
       "        vertical-align: middle;\n",
       "    }\n",
       "\n",
       "    .dataframe tbody tr th {\n",
       "        vertical-align: top;\n",
       "    }\n",
       "\n",
       "    .dataframe thead th {\n",
       "        text-align: right;\n",
       "    }\n",
       "</style>\n",
       "<table border=\"1\" class=\"dataframe\">\n",
       "  <thead>\n",
       "    <tr style=\"text-align: right;\">\n",
       "      <th></th>\n",
       "      <th>tokens</th>\n",
       "      <th>target</th>\n",
       "    </tr>\n",
       "  </thead>\n",
       "  <tbody>\n",
       "    <tr>\n",
       "      <th>0</th>\n",
       "      <td>[Modi, said, the, banks, should, redouble, eff...</td>\n",
       "      <td>0</td>\n",
       "    </tr>\n",
       "    <tr>\n",
       "      <th>1</th>\n",
       "      <td>[We, have, been, able, to, achieve, this, spee...</td>\n",
       "      <td>1</td>\n",
       "    </tr>\n",
       "    <tr>\n",
       "      <th>2</th>\n",
       "      <td>[Acknowledging, slip, ups, in, the, Aadhaar, e...</td>\n",
       "      <td>0</td>\n",
       "    </tr>\n",
       "    <tr>\n",
       "      <th>3</th>\n",
       "      <td>[Jaitley, also, said, the, Aadhaar, should, be...</td>\n",
       "      <td>1</td>\n",
       "    </tr>\n",
       "  </tbody>\n",
       "</table>\n",
       "</div>"
      ],
      "text/plain": [
       "                                              tokens  target\n",
       "0  [Modi, said, the, banks, should, redouble, eff...       0\n",
       "1  [We, have, been, able, to, achieve, this, spee...       1\n",
       "2  [Acknowledging, slip, ups, in, the, Aadhaar, e...       0\n",
       "3  [Jaitley, also, said, the, Aadhaar, should, be...       1"
      ]
     },
     "execution_count": 10,
     "metadata": {},
     "output_type": "execute_result"
    }
   ],
   "source": [
    "file_trees = 'trees.pkl'\n",
    "df_train = pickle.load(open(\"./trees/df_\"+file_trees, 'rb'))\n",
    "df_train.head() "
   ]
  },
  {
   "cell_type": "markdown",
   "metadata": {},
   "source": [
    "Create dictionary for words in the dataset"
   ]
  },
  {
   "cell_type": "code",
   "execution_count": 11,
   "metadata": {},
   "outputs": [],
   "source": [
    "all_tokens = set(sum(df_train['tokens'],[]))\n",
    "word2idx = {}\n",
    "word2idx['UNK']=0\n",
    "i = 1\n",
    "for token in list(all_tokens):\n",
    "    word2idx[token] = i\n",
    "    i+=1\n",
    "idx2word = {v: k for k, v in word2idx.items()}"
   ]
  },
  {
   "cell_type": "code",
   "execution_count": 12,
   "metadata": {},
   "outputs": [
    {
     "data": {
      "text/plain": [
       "{0: 'UNK',\n",
       " 1: 'the',\n",
       " 2: 'Aadhar',\n",
       " 3: 'PERSON',\n",
       " 4: 'fingerprints',\n",
       " 5: 'and',\n",
       " 6: 'achieve',\n",
       " 7: 'been',\n",
       " 8: 'Acknowledging',\n",
       " 9: 'model',\n",
       " 10: 'Aadhaar',\n",
       " 11: 'in',\n",
       " 12: 'an',\n",
       " 13: 'be',\n",
       " 14: 'registrar',\n",
       " 15: 'instead',\n",
       " 16: 'said',\n",
       " 17: 's',\n",
       " 18: 'director',\n",
       " 19: 'needs',\n",
       " 20: 'to',\n",
       " 21: 'this',\n",
       " 22: 'scalable',\n",
       " 23: 'Jaitley',\n",
       " 24: 'returns',\n",
       " 25: 'evasions',\n",
       " 26: 'of',\n",
       " 27: 'also',\n",
       " 28: 'as',\n",
       " 29: 'due',\n",
       " 30: 'deputy',\n",
       " 31: 'applicant',\n",
       " 32: 'financial',\n",
       " 33: 'enrolment',\n",
       " 34: 'speed',\n",
       " 35: 'cases',\n",
       " 36: 'seeding',\n",
       " 37: 'redouble',\n",
       " 38: 'told',\n",
       " 39: 'curb',\n",
       " 40: 'technical',\n",
       " 41: 'UIDAI',\n",
       " 42: 'there',\n",
       " 43: 'tax',\n",
       " 44: 'multiple',\n",
       " 45: 'improve',\n",
       " 46: 'scale',\n",
       " 47: 'operator',\n",
       " 48: 'had',\n",
       " 49: 'literacy',\n",
       " 50: 'should',\n",
       " 51: 'toi',\n",
       " 52: 'where',\n",
       " 53: 'linked',\n",
       " 54: 'accounts',\n",
       " 55: 'with',\n",
       " 56: 'Modi',\n",
       " 57: 'have',\n",
       " 58: 'banks',\n",
       " 59: 'income',\n",
       " 60: 'our',\n",
       " 61: 'architecture',\n",
       " 62: 'general',\n",
       " 63: 'slip',\n",
       " 64: 'ups',\n",
       " 65: 'bank',\n",
       " 66: 'registered',\n",
       " 67: 'numbers',\n",
       " 68: 'well',\n",
       " 69: 'process',\n",
       " 70: 'filing',\n",
       " 71: 'able',\n",
       " 72: 'efforts',\n",
       " 73: 'chairman',\n",
       " 74: 'We'}"
      ]
     },
     "execution_count": 12,
     "metadata": {},
     "output_type": "execute_result"
    }
   ],
   "source": [
    "idx2word"
   ]
  },
  {
   "cell_type": "markdown",
   "metadata": {},
   "source": [
    "Load word2vec model"
   ]
  },
  {
   "cell_type": "code",
   "execution_count": 15,
   "metadata": {},
   "outputs": [
    {
     "name": "stdout",
     "output_type": "stream",
     "text": [
      "Using fine tuned . .\n",
      "Loading economic-word2vec-ner\n"
     ]
    }
   ],
   "source": [
    "if not w2vec:\n",
    "    print(\"Using fine tuned . .\")\n",
    "    if ner:\n",
    "        print(\"Loading \"+policy+\"-word2vec-ner\")\n",
    "        unbiased_in_domain_model = KeyedVectors.load('/Users/navreetkaur/MTP/finetune-word2vec/w2v-models/'+policy+'-word2vec-ner')\n",
    "    elif blackout:\n",
    "        print(\"Loading \"+policy+\"-word2vec-blackout\")\n",
    "        unbiased_in_domain_model = KeyedVectors.load('/Users/navreetkaur/MTP/finetune-word2vec/w2v-models/'+policy+'-word2vec-blackout')\n",
    "    else:\n",
    "        print(\"Loading \"+policy+\"-word2vec\")\n",
    "        unbiased_in_domain_model = KeyedVectors.load('Users/navreetkaur/MTP/finetune-word2vec/w2v-models/'+policy+'-word2vec')\n",
    "    \n",
    "word2vec_model = gensim.models.KeyedVectors.load_word2vec_format('/Users/navreetkaur/MTP/finetune-word2vec/w2v-models/GoogleNews-vectors-negative300.bin', binary=True)"
   ]
  },
  {
   "cell_type": "markdown",
   "metadata": {},
   "source": [
    "Set value of the first(embedding) layer of the model"
   ]
  },
  {
   "cell_type": "code",
   "execution_count": 16,
   "metadata": {},
   "outputs": [
    {
     "data": {
      "text/plain": [
       "(torch.Size([75, 300]), 75)"
      ]
     },
     "execution_count": 16,
     "metadata": {},
     "output_type": "execute_result"
    }
   ],
   "source": [
    "embed = np.zeros((len(idx2word), word2vec_model.vector_size))\n",
    "for idx, word in idx2word.items():\n",
    "    if not w2vec:\n",
    "        try: \n",
    "            embed[idx] = unbiased_in_domain_model[word]\n",
    "        except KeyError:\n",
    "            try:\n",
    "                embed[idx] = word2vec_model[word]\n",
    "            except:\n",
    "                embed[idx] = np.random.normal(size=(word2vec_model.vector_size, ))\n",
    "    else:\n",
    "        try:\n",
    "            embed[idx] = word2vec_model[word]\n",
    "        except:\n",
    "            embed[idx] = np.random.normal(size=(word2vec_model.vector_size, ))\n",
    "embed = torch.from_numpy(embed)\n",
    "embed.shape, len(word2idx)"
   ]
  },
  {
   "cell_type": "code",
   "execution_count": 17,
   "metadata": {},
   "outputs": [
    {
     "data": {
      "text/plain": [
       "target\n",
       "0    2\n",
       "1    2\n",
       "dtype: int64"
      ]
     },
     "execution_count": 17,
     "metadata": {},
     "output_type": "execute_result"
    }
   ],
   "source": [
    "df_train.groupby('target').size() # size of dataset and classes"
   ]
  },
  {
   "cell_type": "code",
   "execution_count": 18,
   "metadata": {},
   "outputs": [],
   "source": [
    "[pro,anti] = pickle.load(open(os.path.join('./trees',file_trees),'rb'))\n",
    "[pro_test,anti_test] = pickle.load(open(os.path.join('./trees',file_trees+\"_test\"),'rb'))"
   ]
  },
  {
   "cell_type": "code",
   "execution_count": 19,
   "metadata": {},
   "outputs": [],
   "source": [
    "CUDA=False\n",
    "def Var(v):\n",
    "    if CUDA: return Variable(v.cuda())\n",
    "    else: return Variable(v)\n",
    "trees = []\n",
    "raw_words = []\n",
    "vocab = []"
   ]
  },
  {
   "cell_type": "code",
   "execution_count": 25,
   "metadata": {},
   "outputs": [],
   "source": [
    "for pro_tree in pro:\n",
    "    pro_tree.root.set_label('pro')\n",
    "for anti_tree in anti:\n",
    "    anti_tree.root.set_label('anti')\n",
    "for pro_tree in pro_test:\n",
    "    pro_tree.root.set_label('pro')\n",
    "for anti_tree in anti_test:\n",
    "    anti_tree.root.set_label('anti')"
   ]
  },
  {
   "cell_type": "markdown",
   "metadata": {},
   "source": [
    "## utils"
   ]
  },
  {
   "cell_type": "code",
   "execution_count": 26,
   "metadata": {},
   "outputs": [],
   "source": [
    "from mytree import *\n",
    "from treeUtil import *\n",
    "\n",
    "def combine(neutral,non_neutral):\n",
    "    trees = []\n",
    "    trees.extend(neutral)\n",
    "    trees.extend(non_neutral)\n",
    "    random.shuffle(trees)\n",
    "    return trees\n",
    "\n",
    "val = {'pro':0,'anti':1,'default':-1}\n",
    "# pro:1, anti:0, neutral:2 (three label)\n",
    "val_all = {'pro':1,'anti':0,'default':-1,'neutral':2}\n",
    "# neutral:0, non-neutral:1 (two-label)\n",
    "val_neutral = {'neutral':0, 'non_neutral':1, 'default':-1}\n",
    "\n",
    "\n",
    "def convert(T):\n",
    "    label = val[T.label] if (hasattr(T,'label')) else None\n",
    "#     print(label)\n",
    "    newTree = convert_primary_new(T,label)\n",
    "    annotate_all(newTree)\n",
    "\n",
    "    return newTree\n",
    "\n",
    "def convert_neutral(T):\n",
    "    label = val_neutral[T.label] if (hasattr(T,'label')) else None\n",
    "#     print(label)\n",
    "    newTree = convert_primary_new(T,label)\n",
    "    annotate_all(newTree)\n",
    "\n",
    "    return newTree\n",
    "\n",
    "def convert_all(T):\n",
    "    label = val_all[T.label] if (hasattr(T,'label')) else None\n",
    "#     print(label)\n",
    "    newTree = convert_primary_new(T,label)\n",
    "    annotate_all(newTree)\n",
    "\n",
    "    return newTree\n",
    "\n",
    "\n",
    "def convert_primary(T):\n",
    "    if (hasattr(T,'label')):\n",
    "        print(T.label) \n",
    "    label = val[T.label] if (hasattr(T,'label')) else None\n",
    "    # label = val[T.label] if (hasattr(T,'label') ) else None # changed for ignoring neutral\n",
    "\n",
    "    if isinstance(T,leafObj):\n",
    "        newTree = Node(label,T.word,T.pos)\n",
    "        newTree.isLeaf = True\n",
    "        return newTree\n",
    "    else:\n",
    "        newTree = Node(label)\n",
    "    \n",
    "    leftChild = convert_primary(T.c1)\n",
    "    rightChild = convert_primary(T.c2)\n",
    "    leftChild.parent = newTree\n",
    "    rightChild.parent = newTree\n",
    "\n",
    "    newTree.left = leftChild\n",
    "    newTree.right = rightChild\n",
    "\n",
    "    return newTree\n",
    "\n",
    "def convert_primary_new(T,label):\n",
    "    # from IPython import embed; embed()\n",
    "    if T is None:\n",
    "        return None\n",
    "    # label = val[T.label] if (hasattr(T,'label') ) else None # changed for ignoring neutral\n",
    "    T.set_label(label)\n",
    "    # if (T.isLeaf) : print (T.word)\n",
    "\n",
    "    T.left = convert_primary_new(T.left,label)\n",
    "    T.right = convert_primary_new(T.right,label)\n",
    "\n",
    "    return T\n",
    "\n",
    "def convertNLTK_tree_primary(tree):\n",
    "    if tree.height()==2:\n",
    "        newTree = Node('default',tree[0],None)\n",
    "        newTree.isLeaf = True\n",
    "        return newTree\n",
    "    newTree = Node('default')\n",
    "    leftChild = convertNLTK_tree_primary(tree[0])\n",
    "    rightChild = convertNLTK_tree_primary(tree[1])\n",
    "    \n",
    "    leftChild.parent = newTree\n",
    "    rightChild.parent = newTree\n",
    "\n",
    "    newTree.left = leftChild\n",
    "    newTree.right = rightChild\n",
    "\n",
    "    return newTree\n",
    "\n",
    "def convertNLTK_tree(tree):\n",
    "    return Tree(convertNLTK_tree_primary(tree))\n",
    "\n",
    "def annotate_all(T):\n",
    "    if T == None: return\n",
    "    if T.label != None : \n",
    "        T.annotated = True\n",
    "    else:\n",
    "        T.annotated = False\n",
    "        T.set_label(T.parent.label)\n",
    "    annotate_all(T.left)\n",
    "    annotate_all(T.right)\n",
    "\n",
    "def buildBalTree(sent):\n",
    "    words = sent.split(' ')\n",
    "\n",
    "    nodes = words\n",
    "\n",
    "    while len(nodes)>1:\n",
    "        temp = []\n",
    "        for i in range(0,len(nodes),2):\n",
    "            lChild = Node(None,nodes[i],None) if isinstance(nodes[i],str) else nodes[i]\n",
    "            if i+1<len(nodes):\n",
    "                rChild = Node(None,nodes[i+1],None) if isinstance(nodes[i+1],str) else nodes[i+1]\n",
    "            else:\n",
    "                rChild = None\n",
    "            if isinstance(nodes[i],str):\n",
    "                lChild.isLeaf = True\n",
    "                if rChild is not None:\n",
    "                    rChild.isLeaf = True\n",
    "            newNode = Node(None)\n",
    "            lChild.parent = newNode\n",
    "            newNode.left = lChild\n",
    "            newNode.right = rChild\n",
    "            if rChild is not None:\n",
    "                rChild.parent = newNode\n",
    "            temp.append(newNode)\n",
    "        nodes=temp\n",
    "    return Tree(nodes[0])\n",
    "\n",
    "def readFile2Trees(filename):\n",
    "    trees = []\n",
    "    with open(filename,'r') as file:\n",
    "        for line in file:\n",
    "            if line=='\\n':\n",
    "                continue\n",
    "            else:\n",
    "                [labelname,sent] = line.split(': ',1)\n",
    "                tree = buildBalTree(sent)\n",
    "                tree.root.set_label(val[labelname])\n",
    "                if val[labelname]!=2:\n",
    "                    trees.append(tree)\n",
    "    return trees"
   ]
  },
  {
   "cell_type": "code",
   "execution_count": 27,
   "metadata": {},
   "outputs": [],
   "source": [
    "trees = combine(pro,anti)\n",
    "data = []\n",
    "for i in range(len(trees)):\n",
    "    data.append(Tree(convert(trees[i].root)))"
   ]
  },
  {
   "cell_type": "code",
   "execution_count": 28,
   "metadata": {},
   "outputs": [],
   "source": [
    "trees_test = combine(pro_test,anti_test)\n",
    "data_test = []\n",
    "for i in range(len(trees_test)):\n",
    "    data_test.append(Tree(convert(trees_test[i].root)))"
   ]
  },
  {
   "cell_type": "markdown",
   "metadata": {},
   "source": [
    "#### Training"
   ]
  },
  {
   "cell_type": "code",
   "execution_count": 30,
   "metadata": {},
   "outputs": [
    {
     "data": {
      "text/plain": [
       "(4, 1)"
      ]
     },
     "execution_count": 30,
     "metadata": {},
     "output_type": "execute_result"
    }
   ],
   "source": [
    "if CUDA: model = RecursiveNN(embed,word2idx).cuda()\n",
    "else: model = RecursiveNN(embed,word2idx)\n",
    "if economic:\n",
    "    max_epochs = 100\n",
    "else:\n",
    "    max_epochs = 50\n",
    "widgets = [progressbar.Percentage(), ' ', progressbar.Bar(), ' ', progressbar.ETA()]\n",
    "l2_reg = {  'embedding.weight' : 1e-6,'W.weight' : 1e-4,'W.bias' : 1e-4,'projection.weight' : 1e-3,'projection.bias' : 1e-3}\n",
    "random.shuffle(data)\n",
    "trn, dev = data, data_test\n",
    "len(trn), len(dev)"
   ]
  },
  {
   "cell_type": "code",
   "execution_count": 31,
   "metadata": {
    "scrolled": true
   },
   "outputs": [
    {
     "name": "stdout",
     "output_type": "stream",
     "text": [
      "\n",
      "\n",
      "Epoch 0\n",
      "Loss =  tensor([30.9919])\n"
     ]
    },
    {
     "name": "stderr",
     "output_type": "stream",
     "text": [
      "100% |##########################################################| Time: 0:00:00\n",
      "100% |##########################################################| Time: 0:00:00\n"
     ]
    },
    {
     "name": "stdout",
     "output_type": "stream",
     "text": [
      "\n",
      "Validation All-nodes accuracy:0.01(best:0.01)\n",
      "Validation Root accuracy:0.0(best:0.0)\n",
      "F1:[0.5, 0.02](best:0.5 , 0.02)\n",
      "\n",
      "Training All-nodes accuracy:0.53(best:0.53)\n",
      "Training Root// accuracy:0.5(best:0.5)\n",
      "Training F1:[0.5, 0.67](best:0.5 , 0.67)\n",
      "\n",
      "\n",
      "Epoch 1\n",
      "Loss =  tensor([27.8373])\n"
     ]
    },
    {
     "name": "stderr",
     "output_type": "stream",
     "text": [
      "100% |##########################################################| Time: 0:00:00\n",
      "100% |##########################################################| Time: 0:00:00\n"
     ]
    },
    {
     "name": "stdout",
     "output_type": "stream",
     "text": [
      "\n",
      "Validation All-nodes accuracy:0.0(best:0.01)\n",
      "Validation Root accuracy:0.0(best:0.0)\n",
      "F1:[0.5, 0.02](best:0.5 , 0.02)\n",
      "\n",
      "Training All-nodes accuracy:0.55(best:0.55)\n",
      "Training Root// accuracy:0.5(best:0.5)\n",
      "Training F1:[0.5, 0.67](best:0.5 , 0.67)\n",
      "\n",
      "\n",
      "Epoch 2\n",
      "Loss =  tensor([27.7548])\n"
     ]
    },
    {
     "name": "stderr",
     "output_type": "stream",
     "text": [
      "100% |##########################################################| Time: 0:00:00\n",
      "100% |##########################################################| Time: 0:00:00\n"
     ]
    },
    {
     "name": "stdout",
     "output_type": "stream",
     "text": [
      "\n",
      "Validation All-nodes accuracy:0.0(best:0.01)\n",
      "Validation Root accuracy:0.0(best:0.0)\n",
      "F1:[0.5, 0.02](best:0.5 , 0.02)\n",
      "\n",
      "Training All-nodes accuracy:0.55(best:0.55)\n",
      "Training Root// accuracy:0.5(best:0.5)\n",
      "Training F1:[0.5, 0.67](best:0.5 , 0.67)\n",
      "\n",
      "\n",
      "Epoch 3\n",
      "Loss =  tensor([26.9493])\n"
     ]
    },
    {
     "name": "stderr",
     "output_type": "stream",
     "text": [
      "100% |##########################################################| Time: 0:00:00\n",
      "100% |##########################################################| Time: 0:00:00\n",
      "  0% |                                                         | ETA:  --:--:--\r"
     ]
    },
    {
     "name": "stdout",
     "output_type": "stream",
     "text": [
      "\n",
      "Validation All-nodes accuracy:0.0(best:0.01)\n",
      "Validation Root accuracy:0.0(best:0.0)\n",
      "F1:[0.5, 0.02](best:0.5 , 0.02)\n",
      "\n",
      "Training All-nodes accuracy:0.55(best:0.55)\n",
      "Training Root// accuracy:0.5(best:0.5)\n",
      "Training F1:[0.5, 0.67](best:0.5 , 0.67)\n",
      "\n",
      "\n",
      "Epoch 4\n",
      "Loss =  tensor([28.3006])\n"
     ]
    },
    {
     "name": "stderr",
     "output_type": "stream",
     "text": [
      "100% |##########################################################| Time: 0:00:00\n",
      "100% |##########################################################| Time: 0:00:00\n",
      "  0% |                                                         | ETA:  --:--:--\r"
     ]
    },
    {
     "name": "stdout",
     "output_type": "stream",
     "text": [
      "\n",
      "Validation All-nodes accuracy:0.0(best:0.01)\n",
      "Validation Root accuracy:0.0(best:0.0)\n",
      "F1:[0.5, 0.02](best:0.5 , 0.02)\n",
      "\n",
      "Training All-nodes accuracy:0.55(best:0.55)\n",
      "Training Root// accuracy:0.5(best:0.5)\n",
      "Training F1:[0.5, 0.67](best:0.5 , 0.67)\n",
      "\n",
      "\n",
      "Epoch 5\n",
      "Loss =  tensor([26.4104])\n"
     ]
    },
    {
     "name": "stderr",
     "output_type": "stream",
     "text": [
      "100% |##########################################################| Time: 0:00:00\n",
      "100% |##########################################################| Time: 0:00:00\n"
     ]
    },
    {
     "name": "stdout",
     "output_type": "stream",
     "text": [
      "\n",
      "Validation All-nodes accuracy:0.0(best:0.01)\n",
      "Validation Root accuracy:0.0(best:0.0)\n",
      "F1:[0.5, 0.02](best:0.5 , 0.02)\n",
      "\n",
      "Training All-nodes accuracy:0.55(best:0.55)\n",
      "Training Root// accuracy:0.5(best:0.5)\n",
      "Training F1:[0.5, 0.67](best:0.5 , 0.67)\n",
      "\n",
      "\n",
      "Epoch 6\n",
      "Loss =  tensor([30.7701])\n"
     ]
    },
    {
     "name": "stderr",
     "output_type": "stream",
     "text": [
      "100% |##########################################################| Time: 0:00:00\n",
      "100% |##########################################################| Time: 0:00:00\n"
     ]
    },
    {
     "name": "stdout",
     "output_type": "stream",
     "text": [
      "\n",
      "Validation All-nodes accuracy:0.0(best:0.01)\n",
      "Validation Root accuracy:0.0(best:0.0)\n",
      "F1:[0.5, 0.02](best:0.5 , 0.02)\n",
      "\n",
      "Training All-nodes accuracy:0.55(best:0.55)\n",
      "Training Root// accuracy:0.5(best:0.5)\n",
      "Training F1:[0.5, 0.67](best:0.5 , 0.67)\n",
      "\n",
      "\n",
      "Epoch 7\n",
      "Loss =  tensor([27.8364])\n"
     ]
    },
    {
     "name": "stderr",
     "output_type": "stream",
     "text": [
      "100% |##########################################################| Time: 0:00:00\n",
      "100% |##########################################################| Time: 0:00:00\n"
     ]
    },
    {
     "name": "stdout",
     "output_type": "stream",
     "text": [
      "\n",
      "Validation All-nodes accuracy:0.0(best:0.01)\n",
      "Validation Root accuracy:0.0(best:0.0)\n",
      "F1:[0.5, 0.02](best:0.5 , 0.02)\n",
      "\n",
      "Training All-nodes accuracy:0.55(best:0.55)\n",
      "Training Root// accuracy:0.5(best:0.5)\n",
      "Training F1:[0.5, 0.67](best:0.5 , 0.67)\n",
      "\n",
      "\n",
      "Epoch 8\n",
      "Loss =  tensor([25.5388])\n"
     ]
    },
    {
     "name": "stderr",
     "output_type": "stream",
     "text": [
      "100% |##########################################################| Time: 0:00:00\n",
      "100% |##########################################################| Time: 0:00:00\n"
     ]
    },
    {
     "name": "stdout",
     "output_type": "stream",
     "text": [
      "\n",
      "Validation All-nodes accuracy:0.0(best:0.01)\n",
      "Validation Root accuracy:0.0(best:0.0)\n",
      "F1:[0.5, 0.02](best:0.5 , 0.02)\n",
      "\n",
      "Training All-nodes accuracy:0.55(best:0.55)\n",
      "Training Root// accuracy:0.5(best:0.5)\n",
      "Training F1:[0.5, 0.67](best:0.5 , 0.67)\n",
      "\n",
      "\n",
      "Epoch 9\n",
      "Loss =  tensor([24.8294])\n"
     ]
    },
    {
     "name": "stderr",
     "output_type": "stream",
     "text": [
      "100% |##########################################################| Time: 0:00:00\n",
      "100% |##########################################################| Time: 0:00:00\n"
     ]
    },
    {
     "name": "stdout",
     "output_type": "stream",
     "text": [
      "\n",
      "Validation All-nodes accuracy:0.0(best:0.01)\n",
      "Validation Root accuracy:0.0(best:0.0)\n",
      "F1:[0.5, 0.02](best:0.5 , 0.02)\n",
      "\n",
      "Training All-nodes accuracy:0.55(best:0.55)\n",
      "Training Root// accuracy:0.5(best:0.5)\n",
      "Training F1:[0.5, 0.67](best:0.5 , 0.67)\n",
      "\n",
      "\n",
      "Epoch 10\n",
      "Loss =  tensor([25.2024])\n"
     ]
    },
    {
     "name": "stderr",
     "output_type": "stream",
     "text": [
      "100% |##########################################################| Time: 0:00:00\n",
      "100% |##########################################################| Time: 0:00:00\n"
     ]
    },
    {
     "name": "stdout",
     "output_type": "stream",
     "text": [
      "\n",
      "Validation All-nodes accuracy:0.0(best:0.01)\n",
      "Validation Root accuracy:0.0(best:0.0)\n",
      "F1:[0.5, 0.02](best:0.5 , 0.02)\n",
      "\n",
      "Training All-nodes accuracy:0.65(best:0.65)\n",
      "Training Root// accuracy:0.75(best:0.75)\n",
      "Training F1:[0.99, 0.8](best:0.99 , 0.8)\n",
      "\n",
      "\n",
      "Epoch 11\n",
      "Loss =  tensor([22.2611])\n"
     ]
    },
    {
     "name": "stderr",
     "output_type": "stream",
     "text": [
      "100% |##########################################################| Time: 0:00:00\n",
      "100% |##########################################################| Time: 0:00:00\n"
     ]
    },
    {
     "name": "stdout",
     "output_type": "stream",
     "text": [
      "\n",
      "Validation All-nodes accuracy:0.09(best:0.09)\n",
      "Validation Root accuracy:1.0(best:1.0)\n",
      "F1:[0.99, 0.5](best:0.99 , 0.5)\n",
      "\n",
      "Training All-nodes accuracy:0.71(best:0.71)\n",
      "Training Root// accuracy:1.0(best:1.0)\n",
      "Training F1:[1.0, 1.0](best:1.0 , 1.0)\n",
      "\n",
      "\n",
      "Epoch 12\n",
      "Loss =  tensor([25.8018])\n"
     ]
    },
    {
     "name": "stderr",
     "output_type": "stream",
     "text": [
      "100% |##########################################################| Time: 0:00:00\n",
      "100% |##########################################################| Time: 0:00:00\n",
      "100% |##########################################################| Time: 0:00:00\n",
      "  0% |                                                         | ETA:  --:--:--\r"
     ]
    },
    {
     "name": "stdout",
     "output_type": "stream",
     "text": [
      "\n",
      "Validation All-nodes accuracy:0.24(best:0.24)\n",
      "Validation Root accuracy:1.0(best:1.0)\n",
      "F1:[0.99, 0.5](best:0.99 , 0.5)\n",
      "\n",
      "Training All-nodes accuracy:0.74(best:0.74)\n",
      "Training Root// accuracy:1.0(best:1.0)\n",
      "Training F1:[1.0, 1.0](best:1.0 , 1.0)\n",
      "\n",
      "\n",
      "Epoch 13\n",
      "Loss =  tensor([21.9907])\n",
      "\n",
      "Validation All-nodes accuracy:0.35(best:0.35)\n",
      "Validation Root accuracy:1.0(best:1.0)\n",
      "F1:[0.99, 0.5](best:0.99 , 0.5)\n"
     ]
    },
    {
     "name": "stderr",
     "output_type": "stream",
     "text": [
      "100% |##########################################################| Time: 0:00:00\n",
      "100% |##########################################################| Time: 0:00:00\n",
      " 50% |#############################                             | ETA:  0:00:00\r"
     ]
    },
    {
     "name": "stdout",
     "output_type": "stream",
     "text": [
      "\n",
      "Training All-nodes accuracy:0.75(best:0.75)\n",
      "Training Root// accuracy:1.0(best:1.0)\n",
      "Training F1:[1.0, 1.0](best:1.0 , 1.0)\n",
      "\n",
      "\n",
      "Epoch 14\n",
      "Loss =  tensor([22.4597])\n",
      "\n",
      "Validation All-nodes accuracy:0.37(best:0.37)\n",
      "Validation Root accuracy:1.0(best:1.0)\n",
      "F1:[0.99, 0.5](best:0.99 , 0.5)\n"
     ]
    },
    {
     "name": "stderr",
     "output_type": "stream",
     "text": [
      "100% |##########################################################| Time: 0:00:00\n",
      "100% |##########################################################| Time: 0:00:00\n",
      " 25% |##############                                            | ETA:  0:00:00\r"
     ]
    },
    {
     "name": "stdout",
     "output_type": "stream",
     "text": [
      "\n",
      "Training All-nodes accuracy:0.76(best:0.76)\n",
      "Training Root// accuracy:1.0(best:1.0)\n",
      "Training F1:[1.0, 1.0](best:1.0 , 1.0)\n",
      "\n",
      "\n",
      "Epoch 15\n",
      "Loss =  tensor([19.1209])\n",
      "\n",
      "Validation All-nodes accuracy:0.36(best:0.37)\n",
      "Validation Root accuracy:1.0(best:1.0)\n",
      "F1:[0.99, 0.5](best:0.99 , 0.5)\n"
     ]
    },
    {
     "name": "stderr",
     "output_type": "stream",
     "text": [
      "100% |##########################################################| Time: 0:00:00\n",
      "100% |##########################################################| Time: 0:00:00\n",
      "100% |##########################################################| Time: 0:00:00\n"
     ]
    },
    {
     "name": "stdout",
     "output_type": "stream",
     "text": [
      "\n",
      "Training All-nodes accuracy:0.77(best:0.77)\n",
      "Training Root// accuracy:1.0(best:1.0)\n",
      "Training F1:[1.0, 1.0](best:1.0 , 1.0)\n",
      "\n",
      "\n",
      "Epoch 16\n",
      "Loss =  tensor([17.7211])\n",
      "\n",
      "Validation All-nodes accuracy:0.32(best:0.37)\n",
      "Validation Root accuracy:0.0(best:1.0)\n",
      "F1:[0.5, 0.02](best:0.99 , 0.5)\n",
      "\n",
      "Training All-nodes accuracy:0.85(best:0.85)\n",
      "Training Root// accuracy:1.0(best:1.0)\n",
      "Training F1:[1.0, 1.0](best:1.0 , 1.0)\n",
      "\n",
      "\n",
      "Epoch 17\n"
     ]
    },
    {
     "name": "stderr",
     "output_type": "stream",
     "text": [
      "100% |##########################################################| Time: 0:00:00\n",
      "100% |##########################################################| Time: 0:00:00\r"
     ]
    },
    {
     "name": "stdout",
     "output_type": "stream",
     "text": [
      "Loss =  tensor([17.4172])\n",
      "\n",
      "Validation All-nodes accuracy:0.29(best:0.37)\n",
      "Validation Root accuracy:0.0(best:1.0)\n",
      "F1:[0.5, 0.02](best:0.99 , 0.5)\n",
      "\n",
      "Training All-nodes accuracy:0.89(best:0.89)\n",
      "Training Root// accuracy:1.0(best:1.0)\n",
      "Training F1:[1.0, 1.0](best:1.0 , 1.0)\n",
      "\n",
      "\n",
      "Epoch 18\n"
     ]
    },
    {
     "name": "stderr",
     "output_type": "stream",
     "text": [
      "\n",
      "100% |##########################################################| Time: 0:00:00\n",
      "100% |##########################################################| Time: 0:00:00\r"
     ]
    },
    {
     "name": "stdout",
     "output_type": "stream",
     "text": [
      "Loss =  tensor([16.8580])\n",
      "\n",
      "Validation All-nodes accuracy:0.13(best:0.37)\n",
      "Validation Root accuracy:0.0(best:1.0)\n",
      "F1:[0.5, 0.02](best:0.99 , 0.5)\n",
      "\n",
      "Training All-nodes accuracy:0.89(best:0.89)\n",
      "Training Root// accuracy:1.0(best:1.0)\n",
      "Training F1:[1.0, 1.0](best:1.0 , 1.0)\n",
      "\n",
      "\n",
      "Epoch 19\n"
     ]
    },
    {
     "name": "stderr",
     "output_type": "stream",
     "text": [
      "\n",
      "100% |##########################################################| Time: 0:00:00\n",
      "100% |##########################################################| Time: 0:00:00\r"
     ]
    },
    {
     "name": "stdout",
     "output_type": "stream",
     "text": [
      "Loss =  tensor([15.8909])\n",
      "\n",
      "Validation All-nodes accuracy:0.57(best:0.57)\n",
      "Validation Root accuracy:0.0(best:1.0)\n",
      "F1:[0.5, 0.02](best:0.99 , 0.5)\n",
      "\n",
      "Training All-nodes accuracy:0.87(best:0.89)\n",
      "Training Root// accuracy:1.0(best:1.0)\n",
      "Training F1:[1.0, 1.0](best:1.0 , 1.0)\n",
      "\n",
      "\n",
      "Epoch 20\n"
     ]
    },
    {
     "name": "stderr",
     "output_type": "stream",
     "text": [
      "\n",
      "100% |##########################################################| Time: 0:00:00\n",
      "100% |##########################################################| Time: 0:00:00\r"
     ]
    },
    {
     "name": "stdout",
     "output_type": "stream",
     "text": [
      "Loss =  tensor([14.1235])\n",
      "\n",
      "Validation All-nodes accuracy:0.61(best:0.61)\n",
      "Validation Root accuracy:0.0(best:1.0)\n",
      "F1:[0.5, 0.02](best:0.99 , 0.5)\n",
      "\n",
      "Training All-nodes accuracy:0.85(best:0.89)\n",
      "Training Root// accuracy:1.0(best:1.0)\n",
      "Training F1:[1.0, 1.0](best:1.0 , 1.0)\n",
      "\n",
      "\n",
      "Epoch 21\n"
     ]
    },
    {
     "name": "stderr",
     "output_type": "stream",
     "text": [
      "\n",
      "100% |##########################################################| Time: 0:00:00\n",
      "100% |##########################################################| Time: 0:00:00\r"
     ]
    },
    {
     "name": "stdout",
     "output_type": "stream",
     "text": [
      "Loss =  tensor([13.6056])\n",
      "\n",
      "Validation All-nodes accuracy:0.69(best:0.69)\n",
      "Validation Root accuracy:0.0(best:1.0)\n",
      "F1:[0.5, 0.02](best:0.99 , 0.5)\n",
      "\n",
      "Training All-nodes accuracy:0.82(best:0.89)\n",
      "Training Root// accuracy:1.0(best:1.0)\n",
      "Training F1:[1.0, 1.0](best:1.0 , 1.0)\n",
      "\n",
      "\n",
      "Epoch 22\n"
     ]
    },
    {
     "name": "stderr",
     "output_type": "stream",
     "text": [
      "\n",
      "100% |##########################################################| Time: 0:00:00\n",
      "100% |##########################################################| Time: 0:00:00\r"
     ]
    },
    {
     "name": "stdout",
     "output_type": "stream",
     "text": [
      "Loss =  tensor([13.8821])\n",
      "\n",
      "Validation All-nodes accuracy:0.72(best:0.72)\n",
      "Validation Root accuracy:0.0(best:1.0)\n",
      "F1:[0.5, 0.02](best:0.99 , 0.5)\n",
      "\n",
      "Training All-nodes accuracy:0.8(best:0.89)\n",
      "Training Root// accuracy:1.0(best:1.0)\n",
      "Training F1:[1.0, 1.0](best:1.0 , 1.0)\n",
      "\n",
      "\n",
      "Epoch 23\n"
     ]
    },
    {
     "name": "stderr",
     "output_type": "stream",
     "text": [
      "\n",
      "100% |##########################################################| Time: 0:00:00\n",
      "100% |##########################################################| Time: 0:00:00\r"
     ]
    },
    {
     "name": "stdout",
     "output_type": "stream",
     "text": [
      "Loss =  tensor([16.1383])\n",
      "\n",
      "Validation All-nodes accuracy:0.72(best:0.72)\n",
      "Validation Root accuracy:0.0(best:1.0)\n",
      "F1:[0.5, 0.02](best:0.99 , 0.5)\n",
      "\n",
      "Training All-nodes accuracy:0.81(best:0.89)\n",
      "Training Root// accuracy:1.0(best:1.0)\n",
      "Training F1:[1.0, 1.0](best:1.0 , 1.0)\n",
      "\n",
      "\n",
      "Epoch 24\n"
     ]
    },
    {
     "name": "stderr",
     "output_type": "stream",
     "text": [
      "\n",
      "100% |##########################################################| Time: 0:00:00\n",
      "100% |##########################################################| Time: 0:00:00\r"
     ]
    },
    {
     "name": "stdout",
     "output_type": "stream",
     "text": [
      "Loss =  tensor([14.3919])\n",
      "\n",
      "Validation All-nodes accuracy:0.65(best:0.72)\n",
      "Validation Root accuracy:0.0(best:1.0)\n",
      "F1:[0.5, 0.02](best:0.99 , 0.5)\n",
      "\n",
      "Training All-nodes accuracy:0.84(best:0.89)\n",
      "Training Root// accuracy:1.0(best:1.0)\n",
      "Training F1:[1.0, 1.0](best:1.0 , 1.0)\n",
      "\n",
      "\n",
      "Epoch 25\n"
     ]
    },
    {
     "name": "stderr",
     "output_type": "stream",
     "text": [
      "\n",
      "100% |##########################################################| Time: 0:00:00\n",
      "100% |##########################################################| Time: 0:00:00\r"
     ]
    },
    {
     "name": "stdout",
     "output_type": "stream",
     "text": [
      "Loss =  tensor([12.8573])\n",
      "\n",
      "Validation All-nodes accuracy:0.64(best:0.72)\n",
      "Validation Root accuracy:0.0(best:1.0)\n",
      "F1:[0.5, 0.02](best:0.99 , 0.5)\n",
      "\n",
      "Training All-nodes accuracy:0.86(best:0.89)\n",
      "Training Root// accuracy:1.0(best:1.0)\n",
      "Training F1:[1.0, 1.0](best:1.0 , 1.0)\n",
      "\n",
      "\n",
      "Epoch 26\n"
     ]
    },
    {
     "name": "stderr",
     "output_type": "stream",
     "text": [
      "\n",
      "100% |##########################################################| Time: 0:00:00\n",
      "100% |##########################################################| Time: 0:00:00\r"
     ]
    },
    {
     "name": "stdout",
     "output_type": "stream",
     "text": [
      "Loss =  tensor([14.4777])\n",
      "\n",
      "Validation All-nodes accuracy:0.59(best:0.72)\n",
      "Validation Root accuracy:0.0(best:1.0)\n",
      "F1:[0.5, 0.02](best:0.99 , 0.5)\n",
      "\n",
      "Training All-nodes accuracy:0.88(best:0.89)\n",
      "Training Root// accuracy:1.0(best:1.0)\n",
      "Training F1:[1.0, 1.0](best:1.0 , 1.0)\n",
      "\n",
      "\n",
      "Epoch 27\n"
     ]
    },
    {
     "name": "stderr",
     "output_type": "stream",
     "text": [
      "\n",
      "100% |##########################################################| Time: 0:00:00\n",
      "100% |##########################################################| Time: 0:00:00\r"
     ]
    },
    {
     "name": "stdout",
     "output_type": "stream",
     "text": [
      "Loss =  tensor([13.6647])\n",
      "\n",
      "Validation All-nodes accuracy:0.19(best:0.72)\n",
      "Validation Root accuracy:0.0(best:1.0)\n",
      "F1:[0.5, 0.02](best:0.99 , 0.5)\n",
      "\n",
      "Training All-nodes accuracy:0.89(best:0.89)\n",
      "Training Root// accuracy:1.0(best:1.0)\n",
      "Training F1:[1.0, 1.0](best:1.0 , 1.0)\n",
      "\n",
      "\n",
      "Epoch 28\n"
     ]
    },
    {
     "name": "stderr",
     "output_type": "stream",
     "text": [
      "\n",
      "100% |##########################################################| Time: 0:00:00\n",
      "  0% |                                                         | ETA:  --:--:--\r"
     ]
    },
    {
     "name": "stdout",
     "output_type": "stream",
     "text": [
      "Loss =  tensor([11.9494])\n",
      "\n",
      "Validation All-nodes accuracy:0.12(best:0.72)\n",
      "Validation Root accuracy:0.0(best:1.0)\n",
      "F1:[0.5, 0.02](best:0.99 , 0.5)\n"
     ]
    },
    {
     "name": "stderr",
     "output_type": "stream",
     "text": [
      "100% |##########################################################| Time: 0:00:00\n",
      "100% |##########################################################| Time: 0:00:00\n",
      " 25% |##############                                            | ETA:  0:00:00\r"
     ]
    },
    {
     "name": "stdout",
     "output_type": "stream",
     "text": [
      "\n",
      "Training All-nodes accuracy:0.91(best:0.91)\n",
      "Training Root// accuracy:1.0(best:1.0)\n",
      "Training F1:[1.0, 1.0](best:1.0 , 1.0)\n",
      "\n",
      "\n",
      "Epoch 29\n",
      "Loss =  tensor([11.7389])\n",
      "\n",
      "Validation All-nodes accuracy:0.12(best:0.72)\n",
      "Validation Root accuracy:0.0(best:1.0)\n",
      "F1:[0.5, 0.02](best:0.99 , 0.5)\n"
     ]
    },
    {
     "name": "stderr",
     "output_type": "stream",
     "text": [
      "100% |##########################################################| Time: 0:00:00\n",
      "100% |##########################################################| Time: 0:00:00\n",
      "  0% |                                                         | ETA:  --:--:--\r"
     ]
    },
    {
     "name": "stdout",
     "output_type": "stream",
     "text": [
      "\n",
      "Training All-nodes accuracy:0.89(best:0.91)\n",
      "Training Root// accuracy:1.0(best:1.0)\n",
      "Training F1:[1.0, 1.0](best:1.0 , 1.0)\n",
      "\n",
      "\n",
      "Epoch 30\n",
      "Loss =  tensor([11.1653])\n",
      "\n",
      "Validation All-nodes accuracy:0.11(best:0.72)\n",
      "Validation Root accuracy:0.0(best:1.0)\n",
      "F1:[0.5, 0.02](best:0.99 , 0.5)\n"
     ]
    },
    {
     "name": "stderr",
     "output_type": "stream",
     "text": [
      "100% |##########################################################| Time: 0:00:00\n",
      "100% |##########################################################| Time: 0:00:00\n",
      "  0% |                                                         | ETA:  --:--:--\r"
     ]
    },
    {
     "name": "stdout",
     "output_type": "stream",
     "text": [
      "\n",
      "Training All-nodes accuracy:0.87(best:0.91)\n",
      "Training Root// accuracy:1.0(best:1.0)\n",
      "Training F1:[1.0, 1.0](best:1.0 , 1.0)\n",
      "\n",
      "\n",
      "Epoch 31\n",
      "Loss =  tensor([11.0159])\n",
      "\n",
      "Validation All-nodes accuracy:0.11(best:0.72)\n",
      "Validation Root accuracy:0.0(best:1.0)\n",
      "F1:[0.5, 0.02](best:0.99 , 0.5)\n"
     ]
    },
    {
     "name": "stderr",
     "output_type": "stream",
     "text": [
      "100% |##########################################################| Time: 0:00:00\n",
      "100% |##########################################################| Time: 0:00:00\n",
      " 25% |##############                                            | ETA:  0:00:00\r"
     ]
    },
    {
     "name": "stdout",
     "output_type": "stream",
     "text": [
      "\n",
      "Training All-nodes accuracy:0.85(best:0.91)\n",
      "Training Root// accuracy:1.0(best:1.0)\n",
      "Training F1:[1.0, 1.0](best:1.0 , 1.0)\n",
      "\n",
      "\n",
      "Epoch 32\n",
      "Loss =  tensor([12.4503])\n",
      "\n",
      "Validation All-nodes accuracy:0.11(best:0.72)\n",
      "Validation Root accuracy:0.0(best:1.0)\n",
      "F1:[0.5, 0.02](best:0.99 , 0.5)\n"
     ]
    },
    {
     "name": "stderr",
     "output_type": "stream",
     "text": [
      "100% |##########################################################| Time: 0:00:00\n",
      "100% |##########################################################| Time: 0:00:00\n",
      " 25% |##############                                            | ETA:  0:00:00\r"
     ]
    },
    {
     "name": "stdout",
     "output_type": "stream",
     "text": [
      "\n",
      "Training All-nodes accuracy:0.84(best:0.91)\n",
      "Training Root// accuracy:1.0(best:1.0)\n",
      "Training F1:[1.0, 1.0](best:1.0 , 1.0)\n",
      "\n",
      "\n",
      "Epoch 33\n",
      "Loss =  tensor([13.5420])\n",
      "\n",
      "Validation All-nodes accuracy:0.11(best:0.72)\n",
      "Validation Root accuracy:0.0(best:1.0)\n",
      "F1:[0.5, 0.02](best:0.99 , 0.5)\n"
     ]
    },
    {
     "name": "stderr",
     "output_type": "stream",
     "text": [
      "100% |##########################################################| Time: 0:00:00\n",
      "100% |##########################################################| Time: 0:00:00\n",
      " 25% |##############                                            | ETA:  0:00:00\r"
     ]
    },
    {
     "name": "stdout",
     "output_type": "stream",
     "text": [
      "\n",
      "Training All-nodes accuracy:0.86(best:0.91)\n",
      "Training Root// accuracy:1.0(best:1.0)\n",
      "Training F1:[1.0, 1.0](best:1.0 , 1.0)\n",
      "\n",
      "\n",
      "Epoch 34\n",
      "Loss =  tensor([12.2303])\n",
      "\n",
      "Validation All-nodes accuracy:0.16(best:0.72)\n",
      "Validation Root accuracy:0.0(best:1.0)\n",
      "F1:[0.5, 0.02](best:0.99 , 0.5)\n"
     ]
    },
    {
     "name": "stderr",
     "output_type": "stream",
     "text": [
      "100% |##########################################################| Time: 0:00:00\n",
      "100% |##########################################################| Time: 0:00:00\n",
      " 25% |##############                                            | ETA:  0:00:00\r"
     ]
    },
    {
     "name": "stdout",
     "output_type": "stream",
     "text": [
      "\n",
      "Training All-nodes accuracy:0.87(best:0.91)\n",
      "Training Root// accuracy:1.0(best:1.0)\n",
      "Training F1:[1.0, 1.0](best:1.0 , 1.0)\n",
      "\n",
      "\n",
      "Epoch 35\n",
      "Loss =  tensor([12.7216])\n",
      "\n",
      "Validation All-nodes accuracy:0.2(best:0.72)\n",
      "Validation Root accuracy:0.0(best:1.0)\n",
      "F1:[0.5, 0.02](best:0.99 , 0.5)\n"
     ]
    },
    {
     "name": "stderr",
     "output_type": "stream",
     "text": [
      "100% |##########################################################| Time: 0:00:00\n",
      "100% |##########################################################| Time: 0:00:00\n",
      "  0% |                                                         | ETA:  --:--:--\r"
     ]
    },
    {
     "name": "stdout",
     "output_type": "stream",
     "text": [
      "\n",
      "Training All-nodes accuracy:0.91(best:0.91)\n",
      "Training Root// accuracy:1.0(best:1.0)\n",
      "Training F1:[1.0, 1.0](best:1.0 , 1.0)\n",
      "\n",
      "\n",
      "Epoch 36\n",
      "Loss =  tensor([12.0446])\n",
      "\n",
      "Validation All-nodes accuracy:0.33(best:0.72)\n",
      "Validation Root accuracy:0.0(best:1.0)\n",
      "F1:[0.5, 0.02](best:0.99 , 0.5)\n"
     ]
    },
    {
     "name": "stderr",
     "output_type": "stream",
     "text": [
      "100% |##########################################################| Time: 0:00:00\n",
      "100% |##########################################################| Time: 0:00:00\n",
      "  0% |                                                         | ETA:  --:--:--\r"
     ]
    },
    {
     "name": "stdout",
     "output_type": "stream",
     "text": [
      "\n",
      "Training All-nodes accuracy:0.92(best:0.92)\n",
      "Training Root// accuracy:1.0(best:1.0)\n",
      "Training F1:[1.0, 1.0](best:1.0 , 1.0)\n",
      "\n",
      "\n",
      "Epoch 37\n",
      "Loss =  tensor([11.1088])\n",
      "\n",
      "Validation All-nodes accuracy:0.36(best:0.72)\n",
      "Validation Root accuracy:0.0(best:1.0)\n",
      "F1:[0.5, 0.02](best:0.99 , 0.5)\n"
     ]
    },
    {
     "name": "stderr",
     "output_type": "stream",
     "text": [
      "100% |##########################################################| Time: 0:00:00\n",
      "100% |##########################################################| Time: 0:00:00\n",
      "  0% |                                                         | ETA:  --:--:--\r"
     ]
    },
    {
     "name": "stdout",
     "output_type": "stream",
     "text": [
      "\n",
      "Training All-nodes accuracy:0.91(best:0.92)\n",
      "Training Root// accuracy:1.0(best:1.0)\n",
      "Training F1:[1.0, 1.0](best:1.0 , 1.0)\n",
      "\n",
      "\n",
      "Epoch 38\n",
      "Loss =  tensor([10.4254])\n",
      "\n",
      "Validation All-nodes accuracy:0.75(best:0.75)\n",
      "Validation Root accuracy:0.0(best:1.0)\n",
      "F1:[0.5, 0.02](best:0.99 , 0.5)\n"
     ]
    },
    {
     "name": "stderr",
     "output_type": "stream",
     "text": [
      "100% |##########################################################| Time: 0:00:00\n",
      "100% |##########################################################| Time: 0:00:00\n",
      "  0% |                                                         | ETA:  --:--:--\r"
     ]
    },
    {
     "name": "stdout",
     "output_type": "stream",
     "text": [
      "\n",
      "Training All-nodes accuracy:0.91(best:0.92)\n",
      "Training Root// accuracy:1.0(best:1.0)\n",
      "Training F1:[1.0, 1.0](best:1.0 , 1.0)\n",
      "\n",
      "\n",
      "Epoch 39\n",
      "Loss =  tensor([10.7725])\n",
      "\n",
      "Validation All-nodes accuracy:0.77(best:0.77)\n",
      "Validation Root accuracy:0.0(best:1.0)\n",
      "F1:[0.5, 0.02](best:0.99 , 0.5)\n"
     ]
    },
    {
     "name": "stderr",
     "output_type": "stream",
     "text": [
      "100% |##########################################################| Time: 0:00:00\n",
      "100% |##########################################################| Time: 0:00:00\n",
      "  0% |                                                         | ETA:  --:--:--\r"
     ]
    },
    {
     "name": "stdout",
     "output_type": "stream",
     "text": [
      "\n",
      "Training All-nodes accuracy:0.88(best:0.92)\n",
      "Training Root// accuracy:1.0(best:1.0)\n",
      "Training F1:[1.0, 1.0](best:1.0 , 1.0)\n",
      "\n",
      "\n",
      "Epoch 40\n",
      "Loss =  tensor([12.0627])\n",
      "\n",
      "Validation All-nodes accuracy:0.79(best:0.79)\n",
      "Validation Root accuracy:0.0(best:1.0)\n",
      "F1:[0.5, 0.02](best:0.99 , 0.5)\n"
     ]
    },
    {
     "name": "stderr",
     "output_type": "stream",
     "text": [
      "100% |##########################################################| Time: 0:00:00\n",
      "100% |##########################################################| Time: 0:00:00\n",
      " 25% |##############                                            | ETA:  0:00:00\r"
     ]
    },
    {
     "name": "stdout",
     "output_type": "stream",
     "text": [
      "\n",
      "Training All-nodes accuracy:0.89(best:0.92)\n",
      "Training Root// accuracy:1.0(best:1.0)\n",
      "Training F1:[1.0, 1.0](best:1.0 , 1.0)\n",
      "\n",
      "\n",
      "Epoch 41\n",
      "Loss =  tensor([11.3384])\n",
      "\n",
      "Validation All-nodes accuracy:0.79(best:0.79)\n",
      "Validation Root accuracy:0.0(best:1.0)\n",
      "F1:[0.5, 0.02](best:0.99 , 0.5)\n"
     ]
    },
    {
     "name": "stderr",
     "output_type": "stream",
     "text": [
      "100% |##########################################################| Time: 0:00:00\n",
      "100% |##########################################################| Time: 0:00:00\n",
      "  0% |                                                         | ETA:  --:--:--\r"
     ]
    },
    {
     "name": "stdout",
     "output_type": "stream",
     "text": [
      "\n",
      "Training All-nodes accuracy:0.89(best:0.92)\n",
      "Training Root// accuracy:1.0(best:1.0)\n",
      "Training F1:[1.0, 1.0](best:1.0 , 1.0)\n",
      "\n",
      "\n",
      "Epoch 42\n",
      "Loss =  tensor([10.4561])\n",
      "\n",
      "Validation All-nodes accuracy:0.79(best:0.79)\n",
      "Validation Root accuracy:0.0(best:1.0)\n",
      "F1:[0.5, 0.02](best:0.99 , 0.5)\n"
     ]
    },
    {
     "name": "stderr",
     "output_type": "stream",
     "text": [
      "100% |##########################################################| Time: 0:00:00\n",
      "100% |##########################################################| Time: 0:00:00\n",
      "  0% |                                                         | ETA:  --:--:--\r"
     ]
    },
    {
     "name": "stdout",
     "output_type": "stream",
     "text": [
      "\n",
      "Training All-nodes accuracy:0.89(best:0.92)\n",
      "Training Root// accuracy:1.0(best:1.0)\n",
      "Training F1:[1.0, 1.0](best:1.0 , 1.0)\n",
      "\n",
      "\n",
      "Epoch 43\n",
      "Loss =  tensor([10.3581])\n",
      "\n",
      "Validation All-nodes accuracy:0.79(best:0.79)\n",
      "Validation Root accuracy:0.0(best:1.0)\n",
      "F1:[0.5, 0.02](best:0.99 , 0.5)\n"
     ]
    },
    {
     "name": "stderr",
     "output_type": "stream",
     "text": [
      "100% |##########################################################| Time: 0:00:00\n",
      "100% |##########################################################| Time: 0:00:00\n",
      " 25% |##############                                            | ETA:  0:00:00\r"
     ]
    },
    {
     "name": "stdout",
     "output_type": "stream",
     "text": [
      "\n",
      "Training All-nodes accuracy:0.91(best:0.92)\n",
      "Training Root// accuracy:1.0(best:1.0)\n",
      "Training F1:[1.0, 1.0](best:1.0 , 1.0)\n",
      "\n",
      "\n",
      "Epoch 44\n",
      "Loss =  tensor([10.2622])\n",
      "\n",
      "Validation All-nodes accuracy:0.76(best:0.79)\n",
      "Validation Root accuracy:0.0(best:1.0)\n",
      "F1:[0.5, 0.02](best:0.99 , 0.5)\n"
     ]
    },
    {
     "name": "stderr",
     "output_type": "stream",
     "text": [
      "100% |##########################################################| Time: 0:00:00\n",
      "100% |##########################################################| Time: 0:00:00\n",
      " 50% |#############################                             | ETA:  0:00:00\r"
     ]
    },
    {
     "name": "stdout",
     "output_type": "stream",
     "text": [
      "\n",
      "Training All-nodes accuracy:0.91(best:0.92)\n",
      "Training Root// accuracy:1.0(best:1.0)\n",
      "Training F1:[1.0, 1.0](best:1.0 , 1.0)\n",
      "\n",
      "\n",
      "Epoch 45\n",
      "Loss =  tensor([10.7292])\n",
      "\n",
      "Validation All-nodes accuracy:0.75(best:0.79)\n",
      "Validation Root accuracy:0.0(best:1.0)\n",
      "F1:[0.5, 0.02](best:0.99 , 0.5)\n"
     ]
    },
    {
     "name": "stderr",
     "output_type": "stream",
     "text": [
      "100% |##########################################################| Time: 0:00:00\n",
      "100% |##########################################################| Time: 0:00:00\n",
      " 25% |##############                                            | ETA:  0:00:00\r"
     ]
    },
    {
     "name": "stdout",
     "output_type": "stream",
     "text": [
      "\n",
      "Training All-nodes accuracy:0.91(best:0.92)\n",
      "Training Root// accuracy:1.0(best:1.0)\n",
      "Training F1:[1.0, 1.0](best:1.0 , 1.0)\n",
      "\n",
      "\n",
      "Epoch 46\n",
      "Loss =  tensor([11.1181])\n",
      "\n",
      "Validation All-nodes accuracy:0.72(best:0.79)\n",
      "Validation Root accuracy:0.0(best:1.0)\n",
      "F1:[0.5, 0.02](best:0.99 , 0.5)\n"
     ]
    },
    {
     "name": "stderr",
     "output_type": "stream",
     "text": [
      "100% |##########################################################| Time: 0:00:00\n",
      "100% |##########################################################| Time: 0:00:00\n",
      " 25% |##############                                            | ETA:  0:00:00\r"
     ]
    },
    {
     "name": "stdout",
     "output_type": "stream",
     "text": [
      "\n",
      "Training All-nodes accuracy:0.92(best:0.92)\n",
      "Training Root// accuracy:1.0(best:1.0)\n",
      "Training F1:[1.0, 1.0](best:1.0 , 1.0)\n",
      "\n",
      "\n",
      "Epoch 47\n",
      "Loss =  tensor([10.6043])\n",
      "\n",
      "Validation All-nodes accuracy:0.35(best:0.79)\n",
      "Validation Root accuracy:0.0(best:1.0)\n",
      "F1:[0.5, 0.02](best:0.99 , 0.5)\n"
     ]
    },
    {
     "name": "stderr",
     "output_type": "stream",
     "text": [
      "100% |##########################################################| Time: 0:00:00\n",
      "100% |##########################################################| Time: 0:00:00\n",
      " 25% |##############                                            | ETA:  0:00:00\r"
     ]
    },
    {
     "name": "stdout",
     "output_type": "stream",
     "text": [
      "\n",
      "Training All-nodes accuracy:0.93(best:0.93)\n",
      "Training Root// accuracy:1.0(best:1.0)\n",
      "Training F1:[1.0, 1.0](best:1.0 , 1.0)\n",
      "\n",
      "\n",
      "Epoch 48\n",
      "Loss =  tensor([9.6176])\n",
      "\n",
      "Validation All-nodes accuracy:0.35(best:0.79)\n",
      "Validation Root accuracy:0.0(best:1.0)\n",
      "F1:[0.5, 0.02](best:0.99 , 0.5)\n"
     ]
    },
    {
     "name": "stderr",
     "output_type": "stream",
     "text": [
      "100% |##########################################################| Time: 0:00:00\n",
      "100% |##########################################################| Time: 0:00:00\n",
      "  0% |                                                         | ETA:  --:--:--\r"
     ]
    },
    {
     "name": "stdout",
     "output_type": "stream",
     "text": [
      "\n",
      "Training All-nodes accuracy:0.92(best:0.93)\n",
      "Training Root// accuracy:1.0(best:1.0)\n",
      "Training F1:[1.0, 1.0](best:1.0 , 1.0)\n",
      "\n",
      "\n",
      "Epoch 49\n",
      "Loss =  tensor([10.5864])\n",
      "\n",
      "Validation All-nodes accuracy:0.35(best:0.79)\n",
      "Validation Root accuracy:0.0(best:1.0)\n",
      "F1:[0.5, 0.02](best:0.99 , 0.5)\n"
     ]
    },
    {
     "name": "stderr",
     "output_type": "stream",
     "text": [
      "100% |##########################################################| Time: 0:00:00\n",
      "100% |##########################################################| Time: 0:00:00\n",
      " 25% |##############                                            | ETA:  0:00:00\r"
     ]
    },
    {
     "name": "stdout",
     "output_type": "stream",
     "text": [
      "\n",
      "Training All-nodes accuracy:0.92(best:0.93)\n",
      "Training Root// accuracy:1.0(best:1.0)\n",
      "Training F1:[1.0, 1.0](best:1.0 , 1.0)\n",
      "\n",
      "\n",
      "Epoch 50\n",
      "Loss =  tensor([10.8316])\n",
      "\n",
      "Validation All-nodes accuracy:0.35(best:0.79)\n",
      "Validation Root accuracy:0.0(best:1.0)\n",
      "F1:[0.5, 0.02](best:0.99 , 0.5)\n"
     ]
    },
    {
     "name": "stderr",
     "output_type": "stream",
     "text": [
      "100% |##########################################################| Time: 0:00:00\n",
      "100% |##########################################################| Time: 0:00:00\n",
      " 75% |###########################################               | ETA:  0:00:00\r"
     ]
    },
    {
     "name": "stdout",
     "output_type": "stream",
     "text": [
      "\n",
      "Training All-nodes accuracy:0.92(best:0.93)\n",
      "Training Root// accuracy:1.0(best:1.0)\n",
      "Training F1:[1.0, 1.0](best:1.0 , 1.0)\n",
      "\n",
      "\n",
      "Epoch 51\n",
      "Loss =  tensor([10.2256])\n",
      "\n",
      "Validation All-nodes accuracy:0.35(best:0.79)\n",
      "Validation Root accuracy:0.0(best:1.0)\n",
      "F1:[0.5, 0.02](best:0.99 , 0.5)\n"
     ]
    },
    {
     "name": "stderr",
     "output_type": "stream",
     "text": [
      "100% |##########################################################| Time: 0:00:00\n",
      "100% |##########################################################| Time: 0:00:00\n",
      " 25% |##############                                            | ETA:  0:00:00\r"
     ]
    },
    {
     "name": "stdout",
     "output_type": "stream",
     "text": [
      "\n",
      "Training All-nodes accuracy:0.92(best:0.93)\n",
      "Training Root// accuracy:1.0(best:1.0)\n",
      "Training F1:[1.0, 1.0](best:1.0 , 1.0)\n",
      "\n",
      "\n",
      "Epoch 52\n",
      "Loss =  tensor([9.5093])\n",
      "\n",
      "Validation All-nodes accuracy:0.35(best:0.79)\n",
      "Validation Root accuracy:0.0(best:1.0)\n",
      "F1:[0.5, 0.02](best:0.99 , 0.5)\n"
     ]
    },
    {
     "name": "stderr",
     "output_type": "stream",
     "text": [
      "100% |##########################################################| Time: 0:00:00\n",
      "100% |##########################################################| Time: 0:00:00\n",
      "100% |##########################################################| Time: 0:00:00\n"
     ]
    },
    {
     "name": "stdout",
     "output_type": "stream",
     "text": [
      "\n",
      "Training All-nodes accuracy:0.92(best:0.93)\n",
      "Training Root// accuracy:1.0(best:1.0)\n",
      "Training F1:[1.0, 1.0](best:1.0 , 1.0)\n",
      "\n",
      "\n",
      "Epoch 53\n",
      "Loss =  tensor([9.9947])\n",
      "\n",
      "Validation All-nodes accuracy:0.35(best:0.79)\n",
      "Validation Root accuracy:0.0(best:1.0)\n",
      "F1:[0.5, 0.02](best:0.99 , 0.5)\n",
      "\n",
      "Training All-nodes accuracy:0.92(best:0.93)\n",
      "Training Root// accuracy:1.0(best:1.0)\n",
      "Training F1:[1.0, 1.0](best:1.0 , 1.0)\n",
      "\n",
      "\n",
      "Epoch 54\n"
     ]
    },
    {
     "name": "stderr",
     "output_type": "stream",
     "text": [
      "100% |##########################################################| Time: 0:00:00\n",
      "100% |##########################################################| Time: 0:00:00\r"
     ]
    },
    {
     "name": "stdout",
     "output_type": "stream",
     "text": [
      "Loss =  tensor([9.7647])\n",
      "\n",
      "Validation All-nodes accuracy:0.35(best:0.79)\n",
      "Validation Root accuracy:0.0(best:1.0)\n",
      "F1:[0.5, 0.02](best:0.99 , 0.5)\n",
      "\n",
      "Training All-nodes accuracy:0.92(best:0.93)\n",
      "Training Root// accuracy:1.0(best:1.0)\n",
      "Training F1:[1.0, 1.0](best:1.0 , 1.0)\n",
      "\n",
      "\n",
      "Epoch 55\n"
     ]
    },
    {
     "name": "stderr",
     "output_type": "stream",
     "text": [
      "\n",
      "100% |##########################################################| Time: 0:00:00\n",
      "100% |##########################################################| Time: 0:00:00\r"
     ]
    },
    {
     "name": "stdout",
     "output_type": "stream",
     "text": [
      "Loss =  tensor([9.0107])\n",
      "\n",
      "Validation All-nodes accuracy:0.35(best:0.79)\n",
      "Validation Root accuracy:0.0(best:1.0)\n",
      "F1:[0.5, 0.02](best:0.99 , 0.5)\n",
      "\n",
      "Training All-nodes accuracy:0.93(best:0.93)\n",
      "Training Root// accuracy:1.0(best:1.0)\n",
      "Training F1:[1.0, 1.0](best:1.0 , 1.0)\n",
      "\n",
      "\n",
      "Epoch 56\n"
     ]
    },
    {
     "name": "stderr",
     "output_type": "stream",
     "text": [
      "\n",
      "100% |##########################################################| Time: 0:00:00\n",
      "100% |##########################################################| Time: 0:00:00\r"
     ]
    },
    {
     "name": "stdout",
     "output_type": "stream",
     "text": [
      "Loss =  tensor([9.4335])\n",
      "\n",
      "Validation All-nodes accuracy:0.36(best:0.79)\n",
      "Validation Root accuracy:0.0(best:1.0)\n",
      "F1:[0.5, 0.02](best:0.99 , 0.5)\n",
      "\n",
      "Training All-nodes accuracy:0.93(best:0.93)\n",
      "Training Root// accuracy:1.0(best:1.0)\n",
      "Training F1:[1.0, 1.0](best:1.0 , 1.0)\n",
      "\n",
      "\n",
      "Epoch 57\n"
     ]
    },
    {
     "name": "stderr",
     "output_type": "stream",
     "text": [
      "\n",
      "100% |##########################################################| Time: 0:00:00\n",
      "100% |##########################################################| Time: 0:00:00\r"
     ]
    },
    {
     "name": "stdout",
     "output_type": "stream",
     "text": [
      "Loss =  tensor([9.5736])\n",
      "\n",
      "Validation All-nodes accuracy:0.36(best:0.79)\n",
      "Validation Root accuracy:0.0(best:1.0)\n",
      "F1:[0.5, 0.02](best:0.99 , 0.5)\n",
      "\n",
      "Training All-nodes accuracy:0.93(best:0.93)\n",
      "Training Root// accuracy:1.0(best:1.0)\n",
      "Training F1:[1.0, 1.0](best:1.0 , 1.0)\n",
      "\n",
      "\n",
      "Epoch 58\n"
     ]
    },
    {
     "name": "stderr",
     "output_type": "stream",
     "text": [
      "\n",
      "100% |##########################################################| Time: 0:00:00\n",
      "100% |##########################################################| Time: 0:00:00\r"
     ]
    },
    {
     "name": "stdout",
     "output_type": "stream",
     "text": [
      "Loss =  tensor([8.9848])\n",
      "\n",
      "Validation All-nodes accuracy:0.73(best:0.79)\n",
      "Validation Root accuracy:0.0(best:1.0)\n",
      "F1:[0.5, 0.02](best:0.99 , 0.5)\n",
      "\n",
      "Training All-nodes accuracy:0.93(best:0.93)\n",
      "Training Root// accuracy:1.0(best:1.0)\n",
      "Training F1:[1.0, 1.0](best:1.0 , 1.0)\n",
      "\n",
      "\n",
      "Epoch 59\n"
     ]
    },
    {
     "name": "stderr",
     "output_type": "stream",
     "text": [
      "\n",
      "100% |##########################################################| Time: 0:00:00\n",
      "100% |##########################################################| Time: 0:00:00\r"
     ]
    },
    {
     "name": "stdout",
     "output_type": "stream",
     "text": [
      "Loss =  tensor([9.6218])\n",
      "\n",
      "Validation All-nodes accuracy:0.76(best:0.79)\n",
      "Validation Root accuracy:0.0(best:1.0)\n",
      "F1:[0.5, 0.02](best:0.99 , 0.5)\n",
      "\n",
      "Training All-nodes accuracy:0.93(best:0.93)\n",
      "Training Root// accuracy:1.0(best:1.0)\n",
      "Training F1:[1.0, 1.0](best:1.0 , 1.0)\n",
      "\n",
      "\n",
      "Epoch 60\n"
     ]
    },
    {
     "name": "stderr",
     "output_type": "stream",
     "text": [
      "\n",
      "100% |##########################################################| Time: 0:00:00\n",
      "100% |##########################################################| Time: 0:00:00\r"
     ]
    },
    {
     "name": "stdout",
     "output_type": "stream",
     "text": [
      "Loss =  tensor([9.1245])\n",
      "\n",
      "Validation All-nodes accuracy:0.76(best:0.79)\n",
      "Validation Root accuracy:0.0(best:1.0)\n",
      "F1:[0.5, 0.02](best:0.99 , 0.5)\n",
      "\n",
      "Training All-nodes accuracy:0.93(best:0.93)\n",
      "Training Root// accuracy:1.0(best:1.0)\n",
      "Training F1:[1.0, 1.0](best:1.0 , 1.0)\n",
      "\n",
      "\n",
      "Epoch 61\n"
     ]
    },
    {
     "name": "stderr",
     "output_type": "stream",
     "text": [
      "\n",
      "100% |##########################################################| Time: 0:00:00\n",
      "100% |##########################################################| Time: 0:00:00\r"
     ]
    },
    {
     "name": "stdout",
     "output_type": "stream",
     "text": [
      "Loss =  tensor([9.6858])\n",
      "\n",
      "Validation All-nodes accuracy:0.76(best:0.79)\n",
      "Validation Root accuracy:0.0(best:1.0)\n",
      "F1:[0.5, 0.02](best:0.99 , 0.5)\n",
      "\n",
      "Training All-nodes accuracy:0.93(best:0.93)\n",
      "Training Root// accuracy:1.0(best:1.0)\n",
      "Training F1:[1.0, 1.0](best:1.0 , 1.0)\n",
      "\n",
      "\n",
      "Epoch 62\n"
     ]
    },
    {
     "name": "stderr",
     "output_type": "stream",
     "text": [
      "\n",
      "100% |##########################################################| Time: 0:00:00\n",
      "100% |##########################################################| Time: 0:00:00\n"
     ]
    },
    {
     "name": "stdout",
     "output_type": "stream",
     "text": [
      "Loss =  tensor([8.6445])\n",
      "\n",
      "Validation All-nodes accuracy:0.76(best:0.79)\n",
      "Validation Root accuracy:0.0(best:1.0)\n",
      "F1:[0.5, 0.02](best:0.99 , 0.5)\n",
      "\n",
      "Training All-nodes accuracy:0.93(best:0.93)\n",
      "Training Root// accuracy:1.0(best:1.0)\n",
      "Training F1:[1.0, 1.0](best:1.0 , 1.0)\n",
      "\n",
      "\n",
      "Epoch 63\n"
     ]
    },
    {
     "name": "stderr",
     "output_type": "stream",
     "text": [
      "100% |##########################################################| Time: 0:00:00\n",
      "100% |##########################################################| Time: 0:00:00\r"
     ]
    },
    {
     "name": "stdout",
     "output_type": "stream",
     "text": [
      "Loss =  tensor([8.9184])\n",
      "\n",
      "Validation All-nodes accuracy:0.76(best:0.79)\n",
      "Validation Root accuracy:0.0(best:1.0)\n",
      "F1:[0.5, 0.02](best:0.99 , 0.5)\n",
      "\n",
      "Training All-nodes accuracy:0.93(best:0.93)\n",
      "Training Root// accuracy:1.0(best:1.0)\n",
      "Training F1:[1.0, 1.0](best:1.0 , 1.0)\n",
      "\n",
      "\n",
      "Epoch 64\n",
      "Loss =  tensor([8.5311])\n"
     ]
    },
    {
     "name": "stderr",
     "output_type": "stream",
     "text": [
      "\n",
      "100% |##########################################################| Time: 0:00:00\n",
      "100% |##########################################################| Time: 0:00:00\n",
      "  0% |                                                         | ETA:  --:--:--\r"
     ]
    },
    {
     "name": "stdout",
     "output_type": "stream",
     "text": [
      "\n",
      "Validation All-nodes accuracy:0.76(best:0.79)\n",
      "Validation Root accuracy:0.0(best:1.0)\n",
      "F1:[0.5, 0.02](best:0.99 , 0.5)\n",
      "\n",
      "Training All-nodes accuracy:0.93(best:0.93)\n",
      "Training Root// accuracy:1.0(best:1.0)\n",
      "Training F1:[1.0, 1.0](best:1.0 , 1.0)\n",
      "\n",
      "\n",
      "Epoch 65\n",
      "Loss =  tensor([9.4480])\n"
     ]
    },
    {
     "name": "stderr",
     "output_type": "stream",
     "text": [
      "100% |##########################################################| Time: 0:00:00\n",
      "100% |##########################################################| Time: 0:00:00\n",
      "  0% |                                                         | ETA:  --:--:--\r"
     ]
    },
    {
     "name": "stdout",
     "output_type": "stream",
     "text": [
      "\n",
      "Validation All-nodes accuracy:0.76(best:0.79)\n",
      "Validation Root accuracy:0.0(best:1.0)\n",
      "F1:[0.5, 0.02](best:0.99 , 0.5)\n",
      "\n",
      "Training All-nodes accuracy:0.93(best:0.93)\n",
      "Training Root// accuracy:1.0(best:1.0)\n",
      "Training F1:[1.0, 1.0](best:1.0 , 1.0)\n",
      "\n",
      "\n",
      "Epoch 66\n",
      "Loss =  tensor([8.7581])\n"
     ]
    },
    {
     "name": "stderr",
     "output_type": "stream",
     "text": [
      "100% |##########################################################| Time: 0:00:00\n",
      "100% |##########################################################| Time: 0:00:00\n",
      "  0% |                                                         | ETA:  --:--:--\r"
     ]
    },
    {
     "name": "stdout",
     "output_type": "stream",
     "text": [
      "\n",
      "Validation All-nodes accuracy:0.76(best:0.79)\n",
      "Validation Root accuracy:0.0(best:1.0)\n",
      "F1:[0.5, 0.02](best:0.99 , 0.5)\n",
      "\n",
      "Training All-nodes accuracy:0.93(best:0.93)\n",
      "Training Root// accuracy:1.0(best:1.0)\n",
      "Training F1:[1.0, 1.0](best:1.0 , 1.0)\n",
      "\n",
      "\n",
      "Epoch 67\n",
      "Loss =  tensor([9.1718])\n"
     ]
    },
    {
     "name": "stderr",
     "output_type": "stream",
     "text": [
      "100% |##########################################################| Time: 0:00:00\n",
      "100% |##########################################################| Time: 0:00:00\n"
     ]
    },
    {
     "name": "stdout",
     "output_type": "stream",
     "text": [
      "\n",
      "Validation All-nodes accuracy:0.37(best:0.79)\n",
      "Validation Root accuracy:0.0(best:1.0)\n",
      "F1:[0.5, 0.02](best:0.99 , 0.5)\n",
      "\n",
      "Training All-nodes accuracy:0.94(best:0.94)\n",
      "Training Root// accuracy:1.0(best:1.0)\n",
      "Training F1:[1.0, 1.0](best:1.0 , 1.0)\n",
      "\n",
      "\n",
      "Epoch 68\n",
      "Loss =  tensor([8.9678])\n"
     ]
    },
    {
     "name": "stderr",
     "output_type": "stream",
     "text": [
      "100% |##########################################################| Time: 0:00:00\n",
      "100% |##########################################################| Time: 0:00:00\n"
     ]
    },
    {
     "name": "stdout",
     "output_type": "stream",
     "text": [
      "\n",
      "Validation All-nodes accuracy:0.37(best:0.79)\n",
      "Validation Root accuracy:0.0(best:1.0)\n",
      "F1:[0.5, 0.02](best:0.99 , 0.5)\n",
      "\n",
      "Training All-nodes accuracy:0.94(best:0.94)\n",
      "Training Root// accuracy:1.0(best:1.0)\n",
      "Training F1:[1.0, 1.0](best:1.0 , 1.0)\n",
      "\n",
      "\n",
      "Epoch 69\n",
      "Loss =  tensor([8.7299])\n"
     ]
    },
    {
     "name": "stderr",
     "output_type": "stream",
     "text": [
      "100% |##########################################################| Time: 0:00:00\n",
      "100% |##########################################################| Time: 0:00:00\n"
     ]
    },
    {
     "name": "stdout",
     "output_type": "stream",
     "text": [
      "\n",
      "Validation All-nodes accuracy:0.35(best:0.79)\n",
      "Validation Root accuracy:0.0(best:1.0)\n",
      "F1:[0.5, 0.02](best:0.99 , 0.5)\n",
      "\n",
      "Training All-nodes accuracy:0.93(best:0.94)\n",
      "Training Root// accuracy:1.0(best:1.0)\n",
      "Training F1:[1.0, 1.0](best:1.0 , 1.0)\n",
      "\n",
      "\n",
      "Epoch 70\n",
      "Loss =  tensor([8.5156])\n"
     ]
    },
    {
     "name": "stderr",
     "output_type": "stream",
     "text": [
      "100% |##########################################################| Time: 0:00:00\n",
      "100% |##########################################################| Time: 0:00:00\n"
     ]
    },
    {
     "name": "stdout",
     "output_type": "stream",
     "text": [
      "\n",
      "Validation All-nodes accuracy:0.35(best:0.79)\n",
      "Validation Root accuracy:0.0(best:1.0)\n",
      "F1:[0.5, 0.02](best:0.99 , 0.5)\n",
      "\n",
      "Training All-nodes accuracy:0.93(best:0.94)\n",
      "Training Root// accuracy:1.0(best:1.0)\n",
      "Training F1:[1.0, 1.0](best:1.0 , 1.0)\n",
      "\n",
      "\n",
      "Epoch 71\n",
      "Loss =  tensor([8.1456])\n"
     ]
    },
    {
     "name": "stderr",
     "output_type": "stream",
     "text": [
      "100% |##########################################################| Time: 0:00:00\n",
      "100% |##########################################################| Time: 0:00:00\n"
     ]
    },
    {
     "name": "stdout",
     "output_type": "stream",
     "text": [
      "\n",
      "Validation All-nodes accuracy:0.35(best:0.79)\n",
      "Validation Root accuracy:0.0(best:1.0)\n",
      "F1:[0.5, 0.02](best:0.99 , 0.5)\n",
      "\n",
      "Training All-nodes accuracy:0.93(best:0.94)\n",
      "Training Root// accuracy:1.0(best:1.0)\n",
      "Training F1:[1.0, 1.0](best:1.0 , 1.0)\n",
      "\n",
      "\n",
      "Epoch 72\n",
      "Loss =  tensor([8.2840])\n"
     ]
    },
    {
     "name": "stderr",
     "output_type": "stream",
     "text": [
      "100% |##########################################################| Time: 0:00:00\n",
      "100% |##########################################################| Time: 0:00:00\n"
     ]
    },
    {
     "name": "stdout",
     "output_type": "stream",
     "text": [
      "\n",
      "Validation All-nodes accuracy:0.33(best:0.79)\n",
      "Validation Root accuracy:0.0(best:1.0)\n",
      "F1:[0.5, 0.02](best:0.99 , 0.5)\n",
      "\n",
      "Training All-nodes accuracy:0.92(best:0.94)\n",
      "Training Root// accuracy:1.0(best:1.0)\n",
      "Training F1:[1.0, 1.0](best:1.0 , 1.0)\n",
      "\n",
      "\n",
      "Epoch 73\n",
      "Loss =  tensor([9.1929])\n"
     ]
    },
    {
     "name": "stderr",
     "output_type": "stream",
     "text": [
      "100% |##########################################################| Time: 0:00:00\n",
      "100% |##########################################################| Time: 0:00:00\n"
     ]
    },
    {
     "name": "stdout",
     "output_type": "stream",
     "text": [
      "\n",
      "Validation All-nodes accuracy:0.33(best:0.79)\n",
      "Validation Root accuracy:0.0(best:1.0)\n",
      "F1:[0.5, 0.02](best:0.99 , 0.5)\n",
      "\n",
      "Training All-nodes accuracy:0.92(best:0.94)\n",
      "Training Root// accuracy:1.0(best:1.0)\n",
      "Training F1:[1.0, 1.0](best:1.0 , 1.0)\n",
      "\n",
      "\n",
      "Epoch 74\n",
      "Loss =  tensor([9.8429])\n"
     ]
    },
    {
     "name": "stderr",
     "output_type": "stream",
     "text": [
      "100% |##########################################################| Time: 0:00:00\n",
      "100% |##########################################################| Time: 0:00:00\n",
      "  0% |                                                         | ETA:  --:--:--\r"
     ]
    },
    {
     "name": "stdout",
     "output_type": "stream",
     "text": [
      "\n",
      "Validation All-nodes accuracy:0.33(best:0.79)\n",
      "Validation Root accuracy:0.0(best:1.0)\n",
      "F1:[0.5, 0.02](best:0.99 , 0.5)\n",
      "\n",
      "Training All-nodes accuracy:0.92(best:0.94)\n",
      "Training Root// accuracy:1.0(best:1.0)\n",
      "Training F1:[1.0, 1.0](best:1.0 , 1.0)\n",
      "\n",
      "\n",
      "Epoch 75\n",
      "Loss =  tensor([9.0959])\n"
     ]
    },
    {
     "name": "stderr",
     "output_type": "stream",
     "text": [
      "100% |##########################################################| Time: 0:00:00\n",
      "100% |##########################################################| Time: 0:00:00\n",
      "  0% |                                                         | ETA:  --:--:--\r"
     ]
    },
    {
     "name": "stdout",
     "output_type": "stream",
     "text": [
      "\n",
      "Validation All-nodes accuracy:0.35(best:0.79)\n",
      "Validation Root accuracy:0.0(best:1.0)\n",
      "F1:[0.5, 0.02](best:0.99 , 0.5)\n",
      "\n",
      "Training All-nodes accuracy:0.93(best:0.94)\n",
      "Training Root// accuracy:1.0(best:1.0)\n",
      "Training F1:[1.0, 1.0](best:1.0 , 1.0)\n",
      "\n",
      "\n",
      "Epoch 76\n",
      "Loss =  tensor([8.7951])\n"
     ]
    },
    {
     "name": "stderr",
     "output_type": "stream",
     "text": [
      "100% |##########################################################| Time: 0:00:00\n",
      "100% |##########################################################| Time: 0:00:00\n"
     ]
    },
    {
     "name": "stdout",
     "output_type": "stream",
     "text": [
      "\n",
      "Validation All-nodes accuracy:0.35(best:0.79)\n",
      "Validation Root accuracy:0.0(best:1.0)\n",
      "F1:[0.5, 0.02](best:0.99 , 0.5)\n",
      "\n",
      "Training All-nodes accuracy:0.93(best:0.94)\n",
      "Training Root// accuracy:1.0(best:1.0)\n",
      "Training F1:[1.0, 1.0](best:1.0 , 1.0)\n",
      "\n",
      "\n",
      "Epoch 77\n",
      "Loss =  tensor([8.0582])\n"
     ]
    },
    {
     "name": "stderr",
     "output_type": "stream",
     "text": [
      "100% |##########################################################| Time: 0:00:00\n",
      "100% |##########################################################| Time: 0:00:00\n"
     ]
    },
    {
     "name": "stdout",
     "output_type": "stream",
     "text": [
      "\n",
      "Validation All-nodes accuracy:0.36(best:0.79)\n",
      "Validation Root accuracy:0.0(best:1.0)\n",
      "F1:[0.5, 0.02](best:0.99 , 0.5)\n",
      "\n",
      "Training All-nodes accuracy:0.94(best:0.94)\n",
      "Training Root// accuracy:1.0(best:1.0)\n",
      "Training F1:[1.0, 1.0](best:1.0 , 1.0)\n",
      "\n",
      "\n",
      "Epoch 78\n",
      "Loss =  tensor([8.0814])\n"
     ]
    },
    {
     "name": "stderr",
     "output_type": "stream",
     "text": [
      "100% |##########################################################| Time: 0:00:00\n",
      "100% |##########################################################| Time: 0:00:00\n"
     ]
    },
    {
     "name": "stdout",
     "output_type": "stream",
     "text": [
      "\n",
      "Validation All-nodes accuracy:0.36(best:0.79)\n",
      "Validation Root accuracy:0.0(best:1.0)\n",
      "F1:[0.5, 0.02](best:0.99 , 0.5)\n",
      "\n",
      "Training All-nodes accuracy:0.94(best:0.94)\n",
      "Training Root// accuracy:1.0(best:1.0)\n",
      "Training F1:[1.0, 1.0](best:1.0 , 1.0)\n",
      "\n",
      "\n",
      "Epoch 79\n",
      "Loss =  tensor([8.1190])\n"
     ]
    },
    {
     "name": "stderr",
     "output_type": "stream",
     "text": [
      "100% |##########################################################| Time: 0:00:00\n",
      "100% |##########################################################| Time: 0:00:00\n",
      "100% |##########################################################| Time: 0:00:00\n",
      "  0% |                                                         | ETA:  --:--:--\r"
     ]
    },
    {
     "name": "stdout",
     "output_type": "stream",
     "text": [
      "\n",
      "Validation All-nodes accuracy:0.36(best:0.79)\n",
      "Validation Root accuracy:0.0(best:1.0)\n",
      "F1:[0.5, 0.02](best:0.99 , 0.5)\n",
      "\n",
      "Training All-nodes accuracy:0.94(best:0.94)\n",
      "Training Root// accuracy:1.0(best:1.0)\n",
      "Training F1:[1.0, 1.0](best:1.0 , 1.0)\n",
      "\n",
      "\n",
      "Epoch 80\n",
      "Loss =  tensor([7.9118])\n",
      "\n",
      "Validation All-nodes accuracy:0.37(best:0.79)\n",
      "Validation Root accuracy:0.0(best:1.0)\n",
      "F1:[0.5, 0.02](best:0.99 , 0.5)\n"
     ]
    },
    {
     "name": "stderr",
     "output_type": "stream",
     "text": [
      "100% |##########################################################| Time: 0:00:00\n",
      "100% |##########################################################| Time: 0:00:00\n",
      "100% |##########################################################| Time: 0:00:00\r"
     ]
    },
    {
     "name": "stdout",
     "output_type": "stream",
     "text": [
      "\n",
      "Training All-nodes accuracy:0.94(best:0.94)\n",
      "Training Root// accuracy:1.0(best:1.0)\n",
      "Training F1:[1.0, 1.0](best:1.0 , 1.0)\n",
      "\n",
      "\n",
      "Epoch 81\n",
      "Loss =  tensor([7.8029])\n",
      "\n",
      "Validation All-nodes accuracy:0.73(best:0.79)\n",
      "Validation Root accuracy:0.0(best:1.0)\n",
      "F1:[0.5, 0.02](best:0.99 , 0.5)\n"
     ]
    },
    {
     "name": "stderr",
     "output_type": "stream",
     "text": [
      "\n",
      "100% |##########################################################| Time: 0:00:00\n",
      " 50% |#############################                             | ETA:  0:00:00\r"
     ]
    },
    {
     "name": "stdout",
     "output_type": "stream",
     "text": [
      "\n",
      "Training All-nodes accuracy:0.94(best:0.94)\n",
      "Training Root// accuracy:1.0(best:1.0)\n",
      "Training F1:[1.0, 1.0](best:1.0 , 1.0)\n",
      "\n",
      "\n",
      "Epoch 82\n",
      "Loss =  tensor([8.0617])\n",
      "\n",
      "Validation All-nodes accuracy:0.73(best:0.79)\n",
      "Validation Root accuracy:0.0(best:1.0)\n",
      "F1:[0.5, 0.02](best:0.99 , 0.5)\n"
     ]
    },
    {
     "name": "stderr",
     "output_type": "stream",
     "text": [
      "100% |##########################################################| Time: 0:00:00\n",
      "100% |##########################################################| Time: 0:00:00\n",
      " 50% |#############################                             | ETA:  0:00:00\r"
     ]
    },
    {
     "name": "stdout",
     "output_type": "stream",
     "text": [
      "\n",
      "Training All-nodes accuracy:0.94(best:0.94)\n",
      "Training Root// accuracy:1.0(best:1.0)\n",
      "Training F1:[1.0, 1.0](best:1.0 , 1.0)\n",
      "\n",
      "\n",
      "Epoch 83\n",
      "Loss =  tensor([8.3208])\n",
      "\n",
      "Validation All-nodes accuracy:0.73(best:0.79)\n",
      "Validation Root accuracy:0.0(best:1.0)\n",
      "F1:[0.5, 0.02](best:0.99 , 0.5)\n"
     ]
    },
    {
     "name": "stderr",
     "output_type": "stream",
     "text": [
      "100% |##########################################################| Time: 0:00:00\n",
      "100% |##########################################################| Time: 0:00:00\n",
      " 25% |##############                                            | ETA:  0:00:00\r"
     ]
    },
    {
     "name": "stdout",
     "output_type": "stream",
     "text": [
      "\n",
      "Training All-nodes accuracy:0.94(best:0.94)\n",
      "Training Root// accuracy:1.0(best:1.0)\n",
      "Training F1:[1.0, 1.0](best:1.0 , 1.0)\n",
      "\n",
      "\n",
      "Epoch 84\n",
      "Loss =  tensor([8.2568])\n",
      "\n",
      "Validation All-nodes accuracy:0.73(best:0.79)\n",
      "Validation Root accuracy:0.0(best:1.0)\n",
      "F1:[0.5, 0.02](best:0.99 , 0.5)\n"
     ]
    },
    {
     "name": "stderr",
     "output_type": "stream",
     "text": [
      "100% |##########################################################| Time: 0:00:00\n",
      "100% |##########################################################| Time: 0:00:00\n",
      "  0% |                                                         | ETA:  --:--:--\r"
     ]
    },
    {
     "name": "stdout",
     "output_type": "stream",
     "text": [
      "\n",
      "Training All-nodes accuracy:0.94(best:0.94)\n",
      "Training Root// accuracy:1.0(best:1.0)\n",
      "Training F1:[1.0, 1.0](best:1.0 , 1.0)\n",
      "\n",
      "\n",
      "Epoch 85\n",
      "Loss =  tensor([8.1140])\n",
      "\n",
      "Validation All-nodes accuracy:0.36(best:0.79)\n",
      "Validation Root accuracy:0.0(best:1.0)\n",
      "F1:[0.5, 0.02](best:0.99 , 0.5)\n"
     ]
    },
    {
     "name": "stderr",
     "output_type": "stream",
     "text": [
      "100% |##########################################################| Time: 0:00:00\n",
      "100% |##########################################################| Time: 0:00:00\n",
      " 25% |##############                                            | ETA:  0:00:00\r"
     ]
    },
    {
     "name": "stdout",
     "output_type": "stream",
     "text": [
      "\n",
      "Training All-nodes accuracy:0.94(best:0.94)\n",
      "Training Root// accuracy:1.0(best:1.0)\n",
      "Training F1:[1.0, 1.0](best:1.0 , 1.0)\n",
      "\n",
      "\n",
      "Epoch 86\n",
      "Loss =  tensor([7.7760])\n",
      "\n",
      "Validation All-nodes accuracy:0.36(best:0.79)\n",
      "Validation Root accuracy:0.0(best:1.0)\n",
      "F1:[0.5, 0.02](best:0.99 , 0.5)\n"
     ]
    },
    {
     "name": "stderr",
     "output_type": "stream",
     "text": [
      "100% |##########################################################| Time: 0:00:00\n",
      "100% |##########################################################| Time: 0:00:00\n",
      "  0% |                                                         | ETA:  --:--:--\r"
     ]
    },
    {
     "name": "stdout",
     "output_type": "stream",
     "text": [
      "\n",
      "Training All-nodes accuracy:0.94(best:0.94)\n",
      "Training Root// accuracy:1.0(best:1.0)\n",
      "Training F1:[1.0, 1.0](best:1.0 , 1.0)\n",
      "\n",
      "\n",
      "Epoch 87\n",
      "Loss =  tensor([7.7614])\n",
      "\n",
      "Validation All-nodes accuracy:0.36(best:0.79)\n",
      "Validation Root accuracy:0.0(best:1.0)\n",
      "F1:[0.5, 0.02](best:0.99 , 0.5)\n"
     ]
    },
    {
     "name": "stderr",
     "output_type": "stream",
     "text": [
      "100% |##########################################################| Time: 0:00:00\n",
      "100% |##########################################################| Time: 0:00:00\n",
      " 25% |##############                                            | ETA:  0:00:00\r"
     ]
    },
    {
     "name": "stdout",
     "output_type": "stream",
     "text": [
      "\n",
      "Training All-nodes accuracy:0.94(best:0.94)\n",
      "Training Root// accuracy:1.0(best:1.0)\n",
      "Training F1:[1.0, 1.0](best:1.0 , 1.0)\n",
      "\n",
      "\n",
      "Epoch 88\n",
      "Loss =  tensor([7.5354])\n",
      "\n",
      "Validation All-nodes accuracy:0.36(best:0.79)\n",
      "Validation Root accuracy:0.0(best:1.0)\n",
      "F1:[0.5, 0.02](best:0.99 , 0.5)\n"
     ]
    },
    {
     "name": "stderr",
     "output_type": "stream",
     "text": [
      "100% |##########################################################| Time: 0:00:00\n",
      "100% |##########################################################| Time: 0:00:00\n",
      " 25% |##############                                            | ETA:  0:00:00\r"
     ]
    },
    {
     "name": "stdout",
     "output_type": "stream",
     "text": [
      "\n",
      "Training All-nodes accuracy:0.94(best:0.94)\n",
      "Training Root// accuracy:1.0(best:1.0)\n",
      "Training F1:[1.0, 1.0](best:1.0 , 1.0)\n",
      "\n",
      "\n",
      "Epoch 89\n",
      "Loss =  tensor([7.4737])\n",
      "\n",
      "Validation All-nodes accuracy:0.35(best:0.79)\n",
      "Validation Root accuracy:0.0(best:1.0)\n",
      "F1:[0.5, 0.02](best:0.99 , 0.5)\n"
     ]
    },
    {
     "name": "stderr",
     "output_type": "stream",
     "text": [
      "100% |##########################################################| Time: 0:00:00\n",
      "100% |##########################################################| Time: 0:00:00\n",
      "  0% |                                                         | ETA:  --:--:--\r"
     ]
    },
    {
     "name": "stdout",
     "output_type": "stream",
     "text": [
      "\n",
      "Training All-nodes accuracy:0.93(best:0.94)\n",
      "Training Root// accuracy:1.0(best:1.0)\n",
      "Training F1:[1.0, 1.0](best:1.0 , 1.0)\n",
      "\n",
      "\n",
      "Epoch 90\n",
      "Loss =  tensor([7.4933])\n",
      "\n",
      "Validation All-nodes accuracy:0.35(best:0.79)\n",
      "Validation Root accuracy:0.0(best:1.0)\n",
      "F1:[0.5, 0.02](best:0.99 , 0.5)\n"
     ]
    },
    {
     "name": "stderr",
     "output_type": "stream",
     "text": [
      "100% |##########################################################| Time: 0:00:00\n",
      "100% |##########################################################| Time: 0:00:00\n",
      " 25% |##############                                            | ETA:  0:00:00\r"
     ]
    },
    {
     "name": "stdout",
     "output_type": "stream",
     "text": [
      "\n",
      "Training All-nodes accuracy:0.93(best:0.94)\n",
      "Training Root// accuracy:1.0(best:1.0)\n",
      "Training F1:[1.0, 1.0](best:1.0 , 1.0)\n",
      "\n",
      "\n",
      "Epoch 91\n",
      "Loss =  tensor([7.4824])\n",
      "\n",
      "Validation All-nodes accuracy:0.33(best:0.79)\n",
      "Validation Root accuracy:0.0(best:1.0)\n",
      "F1:[0.5, 0.02](best:0.99 , 0.5)\n"
     ]
    },
    {
     "name": "stderr",
     "output_type": "stream",
     "text": [
      "100% |##########################################################| Time: 0:00:00\n",
      "100% |##########################################################| Time: 0:00:00\n",
      " 25% |##############                                            | ETA:  0:00:00\r"
     ]
    },
    {
     "name": "stdout",
     "output_type": "stream",
     "text": [
      "\n",
      "Training All-nodes accuracy:0.92(best:0.94)\n",
      "Training Root// accuracy:1.0(best:1.0)\n",
      "Training F1:[1.0, 1.0](best:1.0 , 1.0)\n",
      "\n",
      "\n",
      "Epoch 92\n",
      "Loss =  tensor([7.4690])\n",
      "\n",
      "Validation All-nodes accuracy:0.33(best:0.79)\n",
      "Validation Root accuracy:0.0(best:1.0)\n",
      "F1:[0.5, 0.02](best:0.99 , 0.5)\n"
     ]
    },
    {
     "name": "stderr",
     "output_type": "stream",
     "text": [
      "100% |##########################################################| Time: 0:00:00\n",
      "100% |##########################################################| Time: 0:00:00\n",
      " 25% |##############                                            | ETA:  0:00:00\r"
     ]
    },
    {
     "name": "stdout",
     "output_type": "stream",
     "text": [
      "\n",
      "Training All-nodes accuracy:0.92(best:0.94)\n",
      "Training Root// accuracy:1.0(best:1.0)\n",
      "Training F1:[1.0, 1.0](best:1.0 , 1.0)\n",
      "\n",
      "\n",
      "Epoch 93\n",
      "Loss =  tensor([8.5904])\n",
      "\n",
      "Validation All-nodes accuracy:0.33(best:0.79)\n",
      "Validation Root accuracy:0.0(best:1.0)\n",
      "F1:[0.5, 0.02](best:0.99 , 0.5)\n"
     ]
    },
    {
     "name": "stderr",
     "output_type": "stream",
     "text": [
      "100% |##########################################################| Time: 0:00:00\n",
      "100% |##########################################################| Time: 0:00:00\n",
      "  0% |                                                         | ETA:  --:--:--\r"
     ]
    },
    {
     "name": "stdout",
     "output_type": "stream",
     "text": [
      "\n",
      "Training All-nodes accuracy:0.93(best:0.94)\n",
      "Training Root// accuracy:1.0(best:1.0)\n",
      "Training F1:[1.0, 1.0](best:1.0 , 1.0)\n",
      "\n",
      "\n",
      "Epoch 94\n",
      "Loss =  tensor([7.4371])\n",
      "\n",
      "Validation All-nodes accuracy:0.35(best:0.79)\n",
      "Validation Root accuracy:0.0(best:1.0)\n",
      "F1:[0.5, 0.02](best:0.99 , 0.5)\n"
     ]
    },
    {
     "name": "stderr",
     "output_type": "stream",
     "text": [
      "100% |##########################################################| Time: 0:00:00\n",
      "100% |##########################################################| Time: 0:00:00\n",
      " 50% |#############################                             | ETA:  0:00:00\r"
     ]
    },
    {
     "name": "stdout",
     "output_type": "stream",
     "text": [
      "\n",
      "Training All-nodes accuracy:0.93(best:0.94)\n",
      "Training Root// accuracy:1.0(best:1.0)\n",
      "Training F1:[1.0, 1.0](best:1.0 , 1.0)\n",
      "\n",
      "\n",
      "Epoch 95\n",
      "Loss =  tensor([8.3541])\n",
      "\n",
      "Validation All-nodes accuracy:0.36(best:0.79)\n",
      "Validation Root accuracy:0.0(best:1.0)\n",
      "F1:[0.5, 0.02](best:0.99 , 0.5)\n"
     ]
    },
    {
     "name": "stderr",
     "output_type": "stream",
     "text": [
      "100% |##########################################################| Time: 0:00:00\n",
      "100% |##########################################################| Time: 0:00:00\n",
      "  0% |                                                         | ETA:  --:--:--\r"
     ]
    },
    {
     "name": "stdout",
     "output_type": "stream",
     "text": [
      "\n",
      "Training All-nodes accuracy:0.94(best:0.94)\n",
      "Training Root// accuracy:1.0(best:1.0)\n",
      "Training F1:[1.0, 1.0](best:1.0 , 1.0)\n",
      "\n",
      "\n",
      "Epoch 96\n",
      "Loss =  tensor([7.2803])\n",
      "\n",
      "Validation All-nodes accuracy:0.36(best:0.79)\n",
      "Validation Root accuracy:0.0(best:1.0)\n",
      "F1:[0.5, 0.02](best:0.99 , 0.5)\n"
     ]
    },
    {
     "name": "stderr",
     "output_type": "stream",
     "text": [
      "100% |##########################################################| Time: 0:00:00\n",
      "100% |##########################################################| Time: 0:00:00\n",
      "  0% |                                                         | ETA:  --:--:--\r"
     ]
    },
    {
     "name": "stdout",
     "output_type": "stream",
     "text": [
      "\n",
      "Training All-nodes accuracy:0.94(best:0.94)\n",
      "Training Root// accuracy:1.0(best:1.0)\n",
      "Training F1:[1.0, 1.0](best:1.0 , 1.0)\n",
      "\n",
      "\n",
      "Epoch 97\n",
      "Loss =  tensor([8.3474])\n",
      "\n",
      "Validation All-nodes accuracy:0.36(best:0.79)\n",
      "Validation Root accuracy:0.0(best:1.0)\n",
      "F1:[0.5, 0.02](best:0.99 , 0.5)\n"
     ]
    },
    {
     "name": "stderr",
     "output_type": "stream",
     "text": [
      "100% |##########################################################| Time: 0:00:00\n",
      "100% |##########################################################| Time: 0:00:00\n",
      "  0% |                                                         | ETA:  --:--:--\r"
     ]
    },
    {
     "name": "stdout",
     "output_type": "stream",
     "text": [
      "\n",
      "Training All-nodes accuracy:0.94(best:0.94)\n",
      "Training Root// accuracy:1.0(best:1.0)\n",
      "Training F1:[1.0, 1.0](best:1.0 , 1.0)\n",
      "\n",
      "\n",
      "Epoch 98\n",
      "Loss =  tensor([7.2494])\n",
      "\n",
      "Validation All-nodes accuracy:0.36(best:0.79)\n",
      "Validation Root accuracy:0.0(best:1.0)\n",
      "F1:[0.5, 0.02](best:0.99 , 0.5)\n"
     ]
    },
    {
     "name": "stderr",
     "output_type": "stream",
     "text": [
      "100% |##########################################################| Time: 0:00:00\n",
      "100% |##########################################################| Time: 0:00:00\n",
      " 50% |#############################                             | ETA:  0:00:00\r"
     ]
    },
    {
     "name": "stdout",
     "output_type": "stream",
     "text": [
      "\n",
      "Training All-nodes accuracy:0.94(best:0.94)\n",
      "Training Root// accuracy:1.0(best:1.0)\n",
      "Training F1:[1.0, 1.0](best:1.0 , 1.0)\n",
      "\n",
      "\n",
      "Epoch 99\n",
      "Loss =  tensor([7.3365])\n",
      "\n",
      "Validation All-nodes accuracy:0.36(best:0.79)\n",
      "Validation Root accuracy:0.0(best:1.0)\n",
      "F1:[0.5, 0.02](best:0.99 , 0.5)\n"
     ]
    },
    {
     "name": "stderr",
     "output_type": "stream",
     "text": [
      "100% |##########################################################| Time: 0:00:00\r"
     ]
    },
    {
     "name": "stdout",
     "output_type": "stream",
     "text": [
      "\n",
      "Training All-nodes accuracy:0.94(best:0.94)\n",
      "Training Root// accuracy:1.0(best:1.0)\n",
      "Training F1:[1.0, 1.0](best:1.0 , 1.0)\n"
     ]
    },
    {
     "name": "stderr",
     "output_type": "stream",
     "text": [
      "\n"
     ]
    }
   ],
   "source": [
    "logging.info('Start logging')\n",
    "optimizer = torch.optim.SGD(model.parameters(), lr=0.01, momentum=0.9, dampening=0.0)\n",
    "# bestAll=bestRoot=0.0\n",
    "global count\n",
    "count=0\n",
    "BATCH_SIZE = 128\n",
    "# optimizer = torch.optim.LBFGS(model.parameters(), lr=0.5, max_iter=10, history_size = 10)\n",
    "bestAll=bestRoot=0.0\n",
    "bestF1_0=bestF1_1=best_trn_F1_0=best_trn_F1_1=0.0\n",
    "best_trn_All = best_trn_Root = 0.0 \n",
    "for epoch in range(max_epochs):\n",
    "#     trn = get_trn()\n",
    "    print(\"\\n\\nEpoch %d\" % epoch)\n",
    "    logging.info('Epoch: '+str(epoch))\n",
    "#     pbar = progressbar.ProgressBar(widgets=widgets, maxval=len(trn)/BATCH_SIZE).start()\n",
    "    params = []\n",
    "    for i in range(0,len(trn),BATCH_SIZE):\n",
    "        count+=1\n",
    "        batch = trn[i:min(i+BATCH_SIZE,len(trn))]\n",
    "        def closure():\n",
    "            global count\n",
    "            optimizer.zero_grad()\n",
    "            _,total_loss = model.getLoss(trn[0].root)\n",
    "            for tree in batch:\n",
    "                _, loss = model.getLoss(tree.root)\n",
    "                total_loss += loss\n",
    "\n",
    "            total_loss = total_loss/len(batch)\n",
    "            #L2 reg\n",
    "            param_dict = dict()\n",
    "            for name, param in model.named_parameters():\n",
    "                param_dict[name] = param.data.clone()\n",
    "                if param.requires_grad:\n",
    "                        total_loss += 0.5*l2_reg[name]*(torch.norm(param)**2)\n",
    "            params.append(param_dict)\n",
    "            print('Loss = ',total_loss.data)\n",
    "            logging.info('Loss = '+str(total_loss.data))\n",
    "            logger.scalar_summary('loss', total_loss.data, count)\n",
    "            total_loss.backward()\n",
    "            clip_grad_norm_(model.parameters(),5,2)\n",
    "            return total_loss\n",
    "#         pbar.update(i/BATCH_SIZE)\n",
    "        optimizer.step(closure)\n",
    "\n",
    "#     pbar.finish()\n",
    "\n",
    "    avg_param = dict()\n",
    "    for name, param1 in model.named_parameters():\n",
    "            avg_param[name] = param1.data.clone()\n",
    "\n",
    "    for i in range(1,len(params)):\n",
    "        for name, param in params[i].items():\n",
    "            avg_param[name] += param.clone()\n",
    "    for name, param in model.named_parameters():\n",
    "        if name == 'embedding.weight':\n",
    "            continue\n",
    "        param.data = avg_param[name]/len(params)\n",
    "\n",
    "    correctRoot, correctAll, f1 = model.evaluate(dev)\n",
    "    # correctRoot = model.eval_sent_lvl(dev,LR_clf)\n",
    "    if bestAll<correctAll: bestAll=correctAll\n",
    "    if bestRoot<correctRoot: bestRoot=correctRoot\n",
    "    if bestF1_0<f1[0]: bestF1_0=f1[0]\n",
    "    if bestF1_1<f1[1]: bestF1_1=f1[1]\n",
    "    print(\"\\nValidation All-nodes accuracy:\"+str(round(correctAll,2))+\"(best:\"+str(round(bestAll,2))+\")\")\n",
    "    print(\"Validation Root accuracy:\" + str(round(correctRoot,2))+\"(best:\"+str(round(bestRoot,2))+\")\")\n",
    "    print(\"F1:\"+str([round(x,2) for x in f1])+\"(best:\"+str(round(bestF1_0,2))+\" , \"+str(round(bestF1_1,2))+\")\")\n",
    "    logging.info(\"Validation All-nodes accuracy:\"+str(round(correctAll,2))+\"(best:\"+str(round(bestAll,2))+\")\")\n",
    "    logging.info(\"Validation Root accuracy:\" + str(round(correctRoot,2))+\"(best:\"+str(round(bestRoot,2))+\")\")\n",
    "    logging.info(\"F1:\"+str([round(x,2) for x in f1])+\"(best:\"+str(round(bestF1_0,2))+\" , \"+str(round(bestF1_1,2))+\")\")\n",
    "    correct_trn_Root, correct_trn_All, f1_trn = model.evaluate(trn)\n",
    "    # correctRoot = model.eval_sent_lvl(dev,LR_clf)\n",
    "    if best_trn_All<correct_trn_All: best_trn_All=correct_trn_All\n",
    "    if best_trn_Root<correct_trn_Root: best_trn_Root=correct_trn_Root\n",
    "    if best_trn_F1_0<f1_trn[0]: best_trn_F1_0=f1_trn[0]\n",
    "    if best_trn_F1_1<f1_trn[1]: best_trn_F1_1=f1_trn[1]\n",
    "    print(\"\\nTraining All-nodes accuracy:\"+str(round(correct_trn_All,2))+\"(best:\"+str(round(best_trn_All,2))+\")\")\n",
    "    print(\"Training Root// accuracy:\" + str(round(correct_trn_Root,2))+\"(best:\"+str(round(best_trn_Root,2))+\")\")\n",
    "    print(\"Training F1:\"+str([round(x,2) for x in f1_trn])+\"(best:\"+str(round(best_trn_F1_0,2))+\" , \"+str(round(best_trn_F1_1,2))+\")\")\n",
    "    logging.info(\"Training All-nodes accuracy:\"+str(round(correct_trn_All,2))+\"(best:\"+str(round(best_trn_All,2))+\")\")\n",
    "    logging.info(\"Training Root accuracy:\" + str(round(correct_trn_Root,2))+\"(best:\"+str(round(best_trn_Root,2))+\")\")\n",
    "    logging.info(\"Training F1:\"+str([round(x,2) for x in f1_trn])+\"(best:\"+str(round(best_trn_F1_0,2))+\" , \"+str(round(best_trn_F1_1,2))+\")\")\n",
    "    info = {'valid_root_acc':correctRoot, 'valid_tree_acc':correctAll, 'train_root_acc':correct_trn_Root, 'train_tree_acc':correct_trn_All}\n",
    "    for tag, value in info.items():\n",
    "        logger.scalar_summary(tag,value,epoch)\n",
    "    random.shuffle(trn)"
   ]
  },
  {
   "cell_type": "code",
   "execution_count": 32,
   "metadata": {},
   "outputs": [
    {
     "data": {
      "text/plain": [
       "'economic_w2v_1ProAnti_0General_1NER_0Blackout_1Balance_1Undersample_1Fixed'"
      ]
     },
     "execution_count": 32,
     "metadata": {},
     "output_type": "execute_result"
    }
   ],
   "source": [
    "namecode"
   ]
  },
  {
   "cell_type": "code",
   "execution_count": 33,
   "metadata": {},
   "outputs": [],
   "source": [
    "import pickle\n",
    "pickle.dump(model,open(\"./models/\"+namecode+'.pkl','wb'))"
   ]
  },
  {
   "cell_type": "markdown",
   "metadata": {},
   "source": [
    "#### Evaluation"
   ]
  },
  {
   "cell_type": "code",
   "execution_count": 35,
   "metadata": {},
   "outputs": [
    {
     "name": "stderr",
     "output_type": "stream",
     "text": [
      "100% |##########################################################| Time: 0:00:00\r"
     ]
    },
    {
     "name": "stdout",
     "output_type": "stream",
     "text": [
      "Validation all nodes accuracy:  0.36\n",
      "Validation root accuracy:  0.0\n",
      "Validation root accuracy:  [0.5, 0.019230769230769232]\n"
     ]
    },
    {
     "name": "stderr",
     "output_type": "stream",
     "text": [
      "\n"
     ]
    }
   ],
   "source": [
    "model = pickle.load(open(\"/Users/navreetkaur/MTP/tech_classifier/models/\"+namecode+'.pkl','rb'))\n",
    "correctRoot, correctAll, f1 = model.evaluate(data_test)\n",
    "print(\"Validation all nodes accuracy: \", correctAll)\n",
    "print(\"Validation root accuracy: \", correctRoot)\n",
    "print(\"Validation root accuracy: \", f1)"
   ]
  },
  {
   "cell_type": "code",
   "execution_count": null,
   "metadata": {},
   "outputs": [],
   "source": []
  }
 ],
 "metadata": {
  "kernelspec": {
   "display_name": "Python 3",
   "language": "python",
   "name": "python3"
  },
  "language_info": {
   "codemirror_mode": {
    "name": "ipython",
    "version": 3
   },
   "file_extension": ".py",
   "mimetype": "text/x-python",
   "name": "python",
   "nbconvert_exporter": "python",
   "pygments_lexer": "ipython3",
   "version": "3.7.0b3"
  }
 },
 "nbformat": 4,
 "nbformat_minor": 2
}
