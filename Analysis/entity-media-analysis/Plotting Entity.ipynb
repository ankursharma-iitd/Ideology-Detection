{
 "cells": [
  {
   "cell_type": "code",
   "execution_count": 1,
   "metadata": {},
   "outputs": [],
   "source": [
    "import pandas as pd"
   ]
  },
  {
   "cell_type": "code",
   "execution_count": 2,
   "metadata": {},
   "outputs": [],
   "source": [
    "econ_file = '/Users/ankursharma/Desktop/MTP-org/gem2data/analysis/economic_entity_rcnn.csv'\n",
    "tech_file = '/Users/ankursharma/Desktop/MTP-org/gem2data/analysis/tech_entity.csv'"
   ]
  },
  {
   "cell_type": "code",
   "execution_count": 3,
   "metadata": {},
   "outputs": [],
   "source": [
    "df_econ = pd.read_csv(econ_file)\n",
    "df_tech = pd.read_csv(tech_file)"
   ]
  },
  {
   "cell_type": "code",
   "execution_count": 4,
   "metadata": {},
   "outputs": [
    {
     "data": {
      "text/html": [
       "<div>\n",
       "<style scoped>\n",
       "    .dataframe tbody tr th:only-of-type {\n",
       "        vertical-align: middle;\n",
       "    }\n",
       "\n",
       "    .dataframe tbody tr th {\n",
       "        vertical-align: top;\n",
       "    }\n",
       "\n",
       "    .dataframe thead th {\n",
       "        text-align: right;\n",
       "    }\n",
       "</style>\n",
       "<table border=\"1\" class=\"dataframe\">\n",
       "  <thead>\n",
       "    <tr style=\"text-align: right;\">\n",
       "      <th></th>\n",
       "      <th>Entity</th>\n",
       "      <th>label</th>\n",
       "      <th>By-Statement</th>\n",
       "    </tr>\n",
       "  </thead>\n",
       "  <tbody>\n",
       "    <tr>\n",
       "      <th>0</th>\n",
       "      <td>Ajay Kumar</td>\n",
       "      <td>Anti</td>\n",
       "      <td>1</td>\n",
       "    </tr>\n",
       "    <tr>\n",
       "      <th>1</th>\n",
       "      <td>Ajay Kumar</td>\n",
       "      <td>Pro</td>\n",
       "      <td>1</td>\n",
       "    </tr>\n",
       "    <tr>\n",
       "      <th>2</th>\n",
       "      <td>Ajit Pawar</td>\n",
       "      <td>Anti</td>\n",
       "      <td>1</td>\n",
       "    </tr>\n",
       "    <tr>\n",
       "      <th>3</th>\n",
       "      <td>Ajit Pawar</td>\n",
       "      <td>Pro</td>\n",
       "      <td>2</td>\n",
       "    </tr>\n",
       "    <tr>\n",
       "      <th>4</th>\n",
       "      <td>Akhilesh Yadav</td>\n",
       "      <td>Anti</td>\n",
       "      <td>8</td>\n",
       "    </tr>\n",
       "  </tbody>\n",
       "</table>\n",
       "</div>"
      ],
      "text/plain": [
       "           Entity label  By-Statement\n",
       "0      Ajay Kumar  Anti             1\n",
       "1      Ajay Kumar   Pro             1\n",
       "2      Ajit Pawar  Anti             1\n",
       "3      Ajit Pawar   Pro             2\n",
       "4  Akhilesh Yadav  Anti             8"
      ]
     },
     "execution_count": 4,
     "metadata": {},
     "output_type": "execute_result"
    }
   ],
   "source": [
    "df_econ.head()"
   ]
  },
  {
   "cell_type": "code",
   "execution_count": 38,
   "metadata": {},
   "outputs": [],
   "source": [
    "df_tech_pro = df_tech[df_tech['label'] == 'PRO'].drop(columns=['label']).sort_values(by=['By-Statement', 'Entity'], ascending=False)\n",
    "df_tech_anti = df_tech[df_tech['label'] == 'ANTI'].drop(columns=['label']).sort_values(by=['By-Statement', 'Entity'], ascending=False)\n",
    "df_econ_pro = df_econ[df_econ['label'] == 'Pro'].drop(columns=['label']).sort_values(by=['By-Statement', 'Entity'], ascending=False)\n",
    "df_econ_anti = df_econ[df_econ['label'] == 'Anti'].drop(columns=['label']).sort_values(by=['By-Statement', 'Entity'], ascending=False)"
   ]
  },
  {
   "cell_type": "code",
   "execution_count": 55,
   "metadata": {},
   "outputs": [
    {
     "name": "stdout",
     "output_type": "stream",
     "text": [
      "Top Pro\n",
      "                Entity  By-Statement\n",
      "                  Modi           732\n",
      "          Arun Jaitley           230\n",
      "                   Ram           211\n",
      "         Narendra Modi           119\n",
      "          Siddaramaiah           118\n",
      "                 Naidu            51\n",
      "     Devendra Fadnavis            50\n",
      "                Gandhi            47\n",
      "       Amarinder Singh            37\n",
      "       Mamata Banerjee            34\n",
      "      Pranab Mukherjee            28\n",
      " Shivraj Singh Chouhan            27\n",
      "                  Babu            27\n",
      "       Yogi Adityanath            25\n",
      "          Nitish Kumar            19\n",
      "   Manohar Lal Khattar            18\n",
      "     Radha Mohan Singh            16\n",
      "                  Park            15\n",
      "                  Jain            13\n",
      "         Rajnath Singh            11\n",
      "          Rahul Gandhi            10\n",
      "     Sushil Kumar Modi             9\n",
      "   Parkash Singh Badal             9\n",
      "          Smriti Irani             8\n",
      "        Naveen Patnaik             8\n",
      "      Manohar Parrikar             8\n",
      "       Vasundhara Raje             6\n",
      "    Nirmala Sitharaman             6\n",
      "        Manmohan Singh             6\n",
      "     M. Venkaiah Naidu             6\n",
      "\n",
      "\n",
      "\n",
      "\n",
      "Top Anti\n",
      "                 Entity  By-Statement\n",
      "                   Modi           160\n",
      "                    Ram           154\n",
      "                 Gandhi            84\n",
      "           Siddaramaiah            74\n",
      "           Arun Jaitley            48\n",
      "          Narendra Modi            36\n",
      "        Mamata Banerjee            32\n",
      "        Amarinder Singh            28\n",
      "           Rahul Gandhi            26\n",
      "                  Naidu            19\n",
      "           Nitish Kumar            12\n",
      "                   Babu            12\n",
      "        Yogi Adityanath            10\n",
      "         Akhilesh Yadav             8\n",
      "                   Jain             7\n",
      "  Shivraj Singh Chouhan             6\n",
      "      Devendra Fadnavis             6\n",
      "         Shashi Tharoor             5\n",
      "                  Nagar             5\n",
      "         Manmohan Singh             5\n",
      "      Radha Mohan Singh             4\n",
      "                   Park             4\n",
      "           Smriti Irani             3\n",
      "                 Shukla             3\n",
      "       Pranab Mukherjee             3\n",
      "             Kumar Ravi             3\n",
      " Edappadi K.Palaniswami             3\n",
      "          Rajnath Singh             2\n",
      "         Raghuram Rajan             2\n",
      "      Prithviraj Chavan             2\n"
     ]
    }
   ],
   "source": [
    "print('Top Pro')\n",
    "print(df_econ_pro[:30].to_string(index=False))\n",
    "print('\\n\\n\\n\\nTop Anti')\n",
    "print(df_econ_anti[:30].to_string(index=False))"
   ]
  },
  {
   "cell_type": "code",
   "execution_count": null,
   "metadata": {},
   "outputs": [],
   "source": []
  }
 ],
 "metadata": {
  "kernelspec": {
   "display_name": "Python [conda env:cv2] *",
   "language": "python",
   "name": "conda-env-cv2-py"
  },
  "language_info": {
   "codemirror_mode": {
    "name": "ipython",
    "version": 3
   },
   "file_extension": ".py",
   "mimetype": "text/x-python",
   "name": "python",
   "nbconvert_exporter": "python",
   "pygments_lexer": "ipython3",
   "version": "3.6.9"
  }
 },
 "nbformat": 4,
 "nbformat_minor": 2
}
