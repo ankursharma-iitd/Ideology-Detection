{
 "cells": [
  {
   "cell_type": "code",
   "execution_count": 23,
   "metadata": {},
   "outputs": [],
   "source": [
    "import pandas as pd\n",
    "pd.options.mode.chained_assignment = None \n",
    "import numpy as np\n",
    "import re\n",
    "import nltk\n",
    "import pickle\n",
    "from gensim.models import word2vec\n",
    "from gensim.models import KeyedVectors\n",
    "from sklearn.manifold import TSNE\n",
    "import matplotlib.pyplot as plt\n",
    "import bisect"
   ]
  },
  {
   "cell_type": "code",
   "execution_count": 3,
   "metadata": {
    "scrolled": true
   },
   "outputs": [
    {
     "name": "stdout",
     "output_type": "stream",
     "text": [
      "Using matplotlib backend: MacOSX\n"
     ]
    }
   ],
   "source": [
    "%matplotlib"
   ]
  },
  {
   "cell_type": "code",
   "execution_count": null,
   "metadata": {},
   "outputs": [],
   "source": [
    "# model = KeyedVectors.load('w2v-models/economic-word2vec')\n",
    "model = KeyedVectors.load('/Users/navreetkaur/MTP/finetune-word2vec/w2v-models/prev/aadhar_w2v')"
   ]
  },
  {
   "cell_type": "code",
   "execution_count": 21,
   "metadata": {},
   "outputs": [
    {
     "data": {
      "text/plain": [
       "[('Pawar', 0.7882996201515198),\n",
       " ('Advani', 0.770244836807251),\n",
       " ('Jaitley', 0.740410327911377),\n",
       " ('Deshmukh', 0.7383387088775635),\n",
       " ('Gadkari', 0.7377650737762451),\n",
       " ('BJP', 0.7223128080368042),\n",
       " ('Chavan', 0.7213584184646606),\n",
       " ('Gujarat', 0.7121881246566772),\n",
       " ('Rahul', 0.7093901038169861),\n",
       " ('Gehlot', 0.7076128721237183)]"
      ]
     },
     "execution_count": 21,
     "metadata": {},
     "output_type": "execute_result"
    }
   ],
   "source": [
    "model.most_similar(positive=['Modi'])"
   ]
  },
  {
   "cell_type": "code",
   "execution_count": 57,
   "metadata": {},
   "outputs": [
    {
     "data": {
      "text/plain": [
       "[('Gandhiji', 0.8086377382278442),\n",
       " ('Mahatma', 0.7583321928977966),\n",
       " ('Bapu', 0.7056624889373779),\n",
       " ('Gandhian', 0.6756616830825806),\n",
       " ('Ambedkar', 0.6688408851623535),\n",
       " ('Advani', 0.6528218388557434),\n",
       " ('Mayawati', 0.6415842175483704),\n",
       " ('Gandhis', 0.6389546394348145),\n",
       " ('Modi', 0.6382002234458923),\n",
       " ('Tagore', 0.6329137086868286)]"
      ]
     },
     "execution_count": 57,
     "metadata": {},
     "output_type": "execute_result"
    }
   ],
   "source": [
    "model.most_similar(positive=['Gandhi'])"
   ]
  },
  {
   "cell_type": "code",
   "execution_count": 149,
   "metadata": {},
   "outputs": [
    {
     "data": {
      "text/plain": [
       "18"
      ]
     },
     "execution_count": 149,
     "metadata": {},
     "output_type": "execute_result"
    }
   ],
   "source": [
    "bjp = ['Advani',\n",
    "'Jaitley',\n",
    "'Gadkari',\n",
    "'Javdekar',\n",
    "'Modi',\n",
    "'Javadekar',\n",
    "'Bidhuri',\n",
    "'Jethmalani',\n",
    "'Swaraj',\n",
    "'Rajnath',\n",
    "'Fadnavis',\n",
    "'Tiwari',\n",
    "'Thackeray',\n",
    "'Gadkari',\n",
    "'Vajpayee',\n",
    "'Sitharaman',\n",
    "'Rijiju',\n",
    "'Irani',\n",
    "'Shah']\n",
    "len(set(bjp))"
   ]
  },
  {
   "cell_type": "code",
   "execution_count": 155,
   "metadata": {},
   "outputs": [
    {
     "data": {
      "text/plain": [
       "27"
      ]
     },
     "execution_count": 155,
     "metadata": {},
     "output_type": "execute_result"
    }
   ],
   "source": [
    "inc = ['Mukherjee',\n",
    "'Chidamabaram',\n",
    "'Pawar',\n",
    "'Nirupam',\n",
    "'Deshmukh',\n",
    "'Chavan',\n",
    "'Gehlot',\n",
    "'Yechury',\n",
    "'Moily',\n",
    "'Pranab',\n",
    "'Bhattacharjee',\n",
    "'Rosaiah', \n",
    "'Natwar',\n",
    "'Rahul', \n",
    "'Montek', \n",
    "'Chidambaram', \n",
    "'Nitish', \n",
    "'Mukherjee', \n",
    "'Mayawati',\n",
    "'Bhattacharjee',\n",
    "'Mamata',\n",
    "'Naidu',\n",
    "'Kejriwal',\n",
    "'Amarinder',\n",
    "'Gehlot',\n",
    "'Azad',\n",
    "'Gogoi',\n",
    "'Khurshid',\n",
    "'Chavan',\n",
    "'Chandy',\n",
    "'Deshmukh',\n",
    "'Togadia']\n",
    "len(set(inc))"
   ]
  },
  {
   "cell_type": "code",
   "execution_count": 5,
   "metadata": {},
   "outputs": [
    {
     "name": "stderr",
     "output_type": "stream",
     "text": [
      "/Users/navreetkaur/Library/Python/3.7/lib/python/site-packages/ipykernel_launcher.py:5: DeprecationWarning: Call to deprecated `wv` (Attribute will be removed in 4.0.0, use self instead).\n",
      "  \"\"\"\n"
     ]
    }
   ],
   "source": [
    "labels = []\n",
    "tokens = []\n",
    "\n",
    "for word in model.wv.vocab:\n",
    "    tokens.append(model[word])\n",
    "    labels.append(word)"
   ]
  },
  {
   "cell_type": "code",
   "execution_count": 9,
   "metadata": {},
   "outputs": [],
   "source": [
    "# tsne_model = TSNE(perplexity=20, n_components=2, n_iter=250)\n",
    "tsne_model = TSNE(n_components=2)\n",
    "new_values = tsne_model.fit_transform(tokens)\n",
    "# pickle.dump(new_values, open('tsne_values_economic.pkl', 'wb'))"
   ]
  },
  {
   "cell_type": "code",
   "execution_count": 6,
   "metadata": {},
   "outputs": [],
   "source": [
    "new_values = pickle.load(open('tsne_values_economic.pkl', 'rb'))"
   ]
  },
  {
   "cell_type": "code",
   "execution_count": 44,
   "metadata": {},
   "outputs": [
    {
     "data": {
      "text/plain": [
       "(array([21.321741, 29.58546 ], dtype=float32),\n",
       " array([18.508123, -5.350962], dtype=float32),\n",
       " array([27.993734 , -2.7425878], dtype=float32))"
      ]
     },
     "execution_count": 44,
     "metadata": {},
     "output_type": "execute_result"
    }
   ],
   "source": [
    "new_values[6742], new_values[3983], new_values[8814]"
   ]
  },
  {
   "cell_type": "code",
   "execution_count": 53,
   "metadata": {},
   "outputs": [
    {
     "data": {
      "text/plain": [
       "(21.233767, 29.705662)"
      ]
     },
     "execution_count": 53,
     "metadata": {},
     "output_type": "execute_result"
    }
   ],
   "source": [
    "i = L.index('Jaitley')\n",
    "X[i], Y[i]"
   ]
  },
  {
   "cell_type": "code",
   "execution_count": 9,
   "metadata": {},
   "outputs": [],
   "source": [
    "x = []\n",
    "y = []\n",
    "for value in new_values:\n",
    "    x.append(value[0])\n",
    "    y.append(value[1])"
   ]
  },
  {
   "cell_type": "code",
   "execution_count": 16,
   "metadata": {},
   "outputs": [],
   "source": [
    "new_vals = [(i,j,k) for i,j,k in sorted(zip(x,y,labels))]\n",
    "X, Y, L = list(zip(*new_vals))\n",
    "# len(X), len(Y), len(L)"
   ]
  },
  {
   "cell_type": "code",
   "execution_count": 56,
   "metadata": {},
   "outputs": [
    {
     "data": {
      "text/plain": [
       "(18.82821, 23.45381, 21.321741, 29.58546)"
      ]
     },
     "execution_count": 56,
     "metadata": {},
     "output_type": "execute_result"
    }
   ],
   "source": [
    "X[L.index('Gandhi')], Y[L.index('Gandhi')], X[L.index('Modi')], Y[L.index('Modi')]"
   ]
  },
  {
   "cell_type": "code",
   "execution_count": 54,
   "metadata": {},
   "outputs": [
    {
     "data": {
      "text/plain": [
       "(71853, 77893)"
      ]
     },
     "execution_count": 54,
     "metadata": {},
     "output_type": "execute_result"
    }
   ],
   "source": [
    "bisect.bisect_left(X, 18.5), bisect.bisect_left(X, 22)"
   ]
  },
  {
   "cell_type": "code",
   "execution_count": 49,
   "metadata": {},
   "outputs": [
    {
     "data": {
      "text/plain": [
       "(18.82821, 23.45381)"
      ]
     },
     "execution_count": 49,
     "metadata": {},
     "output_type": "execute_result"
    }
   ],
   "source": [
    "X[72378], Y[72378]"
   ]
  },
  {
   "cell_type": "code",
   "execution_count": 55,
   "metadata": {},
   "outputs": [],
   "source": [
    "fig = plt.figure(figsize=(10, 10)) \n",
    "for i in range(71853, 77893):\n",
    "    if (Y[i]>20):\n",
    "        plt.scatter(X[i],Y[i],c='blue')\n",
    "        plt.annotate(L[i],\n",
    "                     xy=(X[i], Y[i]))\n",
    "        #                  xytext=(5, 2),\n",
    "        #                  textcoords='offset points',\n",
    "        #                  ha='right',\n",
    "        #                  va='bottom'\n",
    "plt.show()"
   ]
  },
  {
   "cell_type": "code",
   "execution_count": 157,
   "metadata": {},
   "outputs": [
    {
     "data": {
      "text/plain": [
       "({'Advani',\n",
       "  'Bidhuri',\n",
       "  'Fadnavis',\n",
       "  'Gadkari',\n",
       "  'Irani',\n",
       "  'Jaitley',\n",
       "  'Javadekar',\n",
       "  'Javdekar',\n",
       "  'Jethmalani',\n",
       "  'Modi',\n",
       "  'Rajnath',\n",
       "  'Rijiju',\n",
       "  'Shah',\n",
       "  'Sitharaman',\n",
       "  'Swaraj',\n",
       "  'Thackeray',\n",
       "  'Tiwari',\n",
       "  'Vajpayee'},\n",
       " {'Amarinder',\n",
       "  'Azad',\n",
       "  'Bhattacharjee',\n",
       "  'Chandy',\n",
       "  'Chavan',\n",
       "  'Chidamabaram',\n",
       "  'Chidambaram',\n",
       "  'Deshmukh',\n",
       "  'Gehlot',\n",
       "  'Gogoi',\n",
       "  'Kejriwal',\n",
       "  'Khurshid',\n",
       "  'Mamata',\n",
       "  'Mayawati',\n",
       "  'Moily',\n",
       "  'Montek',\n",
       "  'Mukherjee',\n",
       "  'Naidu',\n",
       "  'Natwar',\n",
       "  'Nirupam',\n",
       "  'Nitish',\n",
       "  'Pawar',\n",
       "  'Pranab',\n",
       "  'Rahul',\n",
       "  'Rosaiah',\n",
       "  'Togadia',\n",
       "  'Yechury'},\n",
       " 18,\n",
       " 27)"
      ]
     },
     "execution_count": 157,
     "metadata": {},
     "output_type": "execute_result"
    }
   ],
   "source": [
    "bjp = set(bjp)\n",
    "inc = set(inc)\n",
    "bjp, inc, len(bjp), len(inc)"
   ]
  },
  {
   "cell_type": "code",
   "execution_count": 175,
   "metadata": {},
   "outputs": [
    {
     "data": {
      "text/plain": [
       "[('Manmohan', 0.7674049139022827),\n",
       " ('Montek', 0.7490100264549255),\n",
       " ('Chidambaram', 0.7217987775802612),\n",
       " ('Mukherjee', 0.7174678444862366),\n",
       " ('Rajnath', 0.6912670135498047),\n",
       " ('Venkaiah', 0.665076494216919),\n",
       " (\"K'taka\", 0.6622086763381958),\n",
       " ('Mamata', 0.6590150594711304),\n",
       " ('Jaswant', 0.6549724340438843),\n",
       " ('Advani', 0.6474892497062683)]"
      ]
     },
     "execution_count": 175,
     "metadata": {},
     "output_type": "execute_result"
    }
   ],
   "source": [
    "model.most_similar('Pranab')"
   ]
  },
  {
   "cell_type": "code",
   "execution_count": 212,
   "metadata": {},
   "outputs": [
    {
     "data": {
      "text/plain": [
       "14"
      ]
     },
     "execution_count": 212,
     "metadata": {},
     "output_type": "execute_result"
    }
   ],
   "source": [
    "bjp = ['Mungantiwar', 'Tawde', 'Raote', 'Velankar', 'Ananthkumar', \n",
    "       'Advani',\n",
    "  'Bidhuri',\n",
    "  'Fadnavis',\n",
    "  'Jaitley',\n",
    "#   'Javadekar',\n",
    "  'Javdekar',\n",
    "#   'Jethmalani',\n",
    "  'Modi',\n",
    "  'Rijiju',\n",
    "#   'Sitharaman',\n",
    "  'Swaraj',\n",
    "  'Thackeray',\n",
    "#   'Vajpayee' \n",
    "      ]\n",
    "len(set(bjp))"
   ]
  },
  {
   "cell_type": "code",
   "execution_count": 213,
   "metadata": {},
   "outputs": [
    {
     "data": {
      "text/plain": [
       "17"
      ]
     },
     "execution_count": 213,
     "metadata": {},
     "output_type": "execute_result"
    }
   ],
   "source": [
    "inc = ['Bhattacharjee', 'Sinha',  'Ahluwalia', 'Bhattacharjee', 'Banerjee', 'Manmohan', \n",
    "  'Chidambaram',\n",
    "  'Gogoi',\n",
    "  'Kejriwal',\n",
    "  'Khurshid',\n",
    "  'Mayawati',\n",
    "  'Montek',\n",
    "  'Mukherjee',\n",
    "  'Natwar',\n",
    "  'Nitish',\n",
    "  'Pranab',\n",
    "  'Rosaiah',\n",
    "  'Yechury']\n",
    "len(set(inc))"
   ]
  },
  {
   "cell_type": "code",
   "execution_count": 214,
   "metadata": {},
   "outputs": [],
   "source": [
    "fig = plt.figure(figsize=(10, 10)) "
   ]
  },
  {
   "cell_type": "code",
   "execution_count": 215,
   "metadata": {},
   "outputs": [],
   "source": [
    "for name in set(bjp):\n",
    "    i = L.index(name)\n",
    "    plt.scatter(X[i],Y[i],c='blue')\n",
    "    plt.annotate(L[i],\n",
    "                 xy=(X[i], Y[i]))\n",
    "\n",
    "for name in set(inc):\n",
    "    i = L.index(name)\n",
    "    plt.scatter(X[i],Y[i],c='red')\n",
    "    plt.annotate(L[i],\n",
    "                 xy=(X[i], Y[i]))\n",
    "\n",
    "plt.show()"
   ]
  },
  {
   "cell_type": "code",
   "execution_count": null,
   "metadata": {},
   "outputs": [],
   "source": []
  }
 ],
 "metadata": {
  "kernelspec": {
   "display_name": "Python 3",
   "language": "python",
   "name": "python3"
  },
  "language_info": {
   "codemirror_mode": {
    "name": "ipython",
    "version": 3
   },
   "file_extension": ".py",
   "mimetype": "text/x-python",
   "name": "python",
   "nbconvert_exporter": "python",
   "pygments_lexer": "ipython3",
   "version": "3.7.0b3"
  }
 },
 "nbformat": 4,
 "nbformat_minor": 2
}
