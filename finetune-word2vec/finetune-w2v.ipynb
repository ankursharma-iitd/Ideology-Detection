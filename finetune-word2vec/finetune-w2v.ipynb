{
 "cells": [
  {
   "cell_type": "markdown",
   "metadata": {},
   "source": [
    "## This code is used to:\n",
    "Fine-tune word2vec model on the above preprocessed dataset "
   ]
  },
  {
   "cell_type": "code",
   "execution_count": 1,
   "metadata": {},
   "outputs": [],
   "source": [
    "import numpy as np\n",
    "import pandas as pd\n",
    "from sklearn.preprocessing import LabelEncoder\n",
    "import matplotlib.pyplot as plt \n",
    "from os import listdir\n",
    "import os\n",
    "import pickle\n",
    "from tqdm import tqdm_notebook"
   ]
  },
  {
   "cell_type": "code",
   "execution_count": 2,
   "metadata": {},
   "outputs": [],
   "source": [
    "import nltk\n",
    "from nltk.tokenize import word_tokenize\n",
    "from nltk.tokenize import sent_tokenize\n",
    "import gensim\n",
    "from gensim.models import KeyedVectors"
   ]
  },
  {
   "cell_type": "code",
   "execution_count": 3,
   "metadata": {},
   "outputs": [],
   "source": [
    "import spacy\n",
    "from spacy import displacy\n",
    "from collections import Counter\n",
    "import en_core_web_sm\n",
    "from spacy.pipeline import merge_entities\n",
    "nlp = en_core_web_sm.load()\n",
    "nlp.add_pipe(merge_entities)"
   ]
  },
  {
   "cell_type": "code",
   "execution_count": 4,
   "metadata": {},
   "outputs": [],
   "source": [
    "corpus_path = \"../data/lm/\"\n",
    "economic_path = \"../data/lm/economic/\"\n",
    "tech_path = \"../data/lm/tech/\"\n",
    "\n",
    "all_economic_articles = os.path.join(corpus_path, \"all_economic_articles.txt\") \n",
    "# pre-processed text with named entities replaced by their tags (person, organisation only)\n",
    "all_economic_articles_ner = os.path.join(corpus_path, \"all_economic_articles.txt-ner.txt\") \n",
    "# pre-processed text with named entities removed (person, organisation only)\n",
    "all_economic_articles_blackout = os.path.join(corpus_path, \"all_economic_articles.txt-blackout.txt\")\n",
    "\n",
    "all_tech_articles = os.path.join(corpus_path, \"all_tech_articles.txt\")\n",
    "all_tech_articles_ner = os.path.join(corpus_path, \"all_tech_articles.txt-ner.txt\")\n",
    "all_tech_articles_blackout = os.path.join(corpus_path, \"all_tech_articles.txt-blackout.txt\")"
   ]
  },
  {
   "cell_type": "code",
   "execution_count": 5,
   "metadata": {},
   "outputs": [],
   "source": [
    "lock_factor=0.9\n",
    "window_size = 3\n",
    "num_neg_samples = 10\n",
    "num_epochs = 5\n",
    "learning_rate = 0.001\n",
    "min_count=1\n",
    "pretrained_embeddings_path = '/MTP/finetune-word2vec/w2v-models/GoogleNews-vectors-negative300.bin'"
   ]
  },
  {
   "cell_type": "markdown",
   "metadata": {},
   "source": [
    "## Economic"
   ]
  },
  {
   "cell_type": "markdown",
   "metadata": {},
   "source": [
    "Without NER"
   ]
  },
  {
   "cell_type": "code",
   "execution_count": 6,
   "metadata": {},
   "outputs": [],
   "source": [
    "model_path = '/MTP/finetune-word2vec/w2v-models/economic-word2vec'\n",
    "policy_articles_path = all_economic_articles"
   ]
  },
  {
   "cell_type": "markdown",
   "metadata": {},
   "source": [
    "NER"
   ]
  },
  {
   "cell_type": "code",
   "execution_count": 7,
   "metadata": {},
   "outputs": [],
   "source": [
    "model_path = '/MTP/finetune-word2vec/w2v-models/economic-word2vec-ner'\n",
    "policy_articles_path = all_economic_articles_ner"
   ]
  },
  {
   "cell_type": "markdown",
   "metadata": {},
   "source": [
    "Blackout"
   ]
  },
  {
   "cell_type": "code",
   "execution_count": 8,
   "metadata": {},
   "outputs": [],
   "source": [
    "model_path = '/MTP/finetune-word2vec/w2v-models/economic-word2vec-blackout'\n",
    "policy_articles_path = all_economic_articles_blackout"
   ]
  },
  {
   "cell_type": "markdown",
   "metadata": {},
   "source": [
    "## Tech"
   ]
  },
  {
   "cell_type": "markdown",
   "metadata": {},
   "source": [
    "Without NER"
   ]
  },
  {
   "cell_type": "code",
   "execution_count": 9,
   "metadata": {},
   "outputs": [],
   "source": [
    "model_path = '/MTP/finetune-word2vec/w2v-models/tech-word2vec'\n",
    "policy_articles_path = all_tech_articles"
   ]
  },
  {
   "cell_type": "markdown",
   "metadata": {},
   "source": [
    "NER"
   ]
  },
  {
   "cell_type": "code",
   "execution_count": 10,
   "metadata": {},
   "outputs": [],
   "source": [
    "model_path = '/MTP/finetune-word2vec/w2v-models/tech-word2vec-ner'\n",
    "policy_articles_path = all_tech_articles_ner"
   ]
  },
  {
   "cell_type": "markdown",
   "metadata": {},
   "source": [
    "Blackout"
   ]
  },
  {
   "cell_type": "code",
   "execution_count": 11,
   "metadata": {},
   "outputs": [],
   "source": [
    "model_path = '/MTP/finetune-word2vec/w2v-models/tech-word2vec-blackout'\n",
    "policy_articles_path = all_tech_articles_blackout"
   ]
  },
  {
   "cell_type": "code",
   "execution_count": 12,
   "metadata": {},
   "outputs": [],
   "source": [
    "with open(policy_articles_path,'r') as f:\n",
    "    sentences = f.readlines()"
   ]
  },
  {
   "cell_type": "code",
   "execution_count": 14,
   "metadata": {},
   "outputs": [],
   "source": [
    "sents = []\n",
    "for sentence in sentences:\n",
    "    sents+=sent_tokenize(sentence)\n",
    "sents = [word_tokenize(sent) for sent in sents]"
   ]
  },
  {
   "cell_type": "code",
   "execution_count": 15,
   "metadata": {},
   "outputs": [],
   "source": [
    "with open(os.path.join(corpus_path,'sents-economic-blackout.pkl'), 'wb') as f:\n",
    "    pickle.dump(sents, f)"
   ]
  },
  {
   "cell_type": "markdown",
   "metadata": {},
   "source": [
    "### Word2Vec\n"
   ]
  },
  {
   "cell_type": "code",
   "execution_count": 16,
   "metadata": {},
   "outputs": [],
   "source": [
    "word2vec_model = gensim.models.KeyedVectors.load_word2vec_format(pretrained_embeddings_path, binary=True)"
   ]
  },
  {
   "cell_type": "code",
   "execution_count": 17,
   "metadata": {},
   "outputs": [],
   "source": [
    "def combine_vocab(model, domain_vocab):\n",
    "\tword2vec_vocab = list(model.wv.vocab.keys())\n",
    "\tdomain_vocab = list(domain_vocab.keys())\n",
    "\tcombined_vocab = word2vec_vocab\n",
    "\tfor x in domain_vocab:\n",
    "\t    if x not in word2vec_vocab:\n",
    "\t        combined_vocab.append(x)\n",
    "\treturn combined_vocab"
   ]
  },
  {
   "cell_type": "code",
   "execution_count": 18,
   "metadata": {},
   "outputs": [],
   "source": [
    "def get_domain_model(corpus, word2vec_model):\n",
    "\t# check size of embedding of word2vec\n",
    "\tembedding_dim = word2vec_model.vectors[0].shape[0]\n",
    "\tdomain_model = gensim.models.Word2Vec(size=300, alpha=0.025,\n",
    "               window=5, min_count=2, max_vocab_size=None, \n",
    "               sample=0.001, workers=4, min_alpha=0.0001, \n",
    "               sg=0, hs=0, negative=5, ns_exponent=0.75, cbow_mean=1)\n",
    "\tdomain_model.build_vocab(corpus)\n",
    "\ttotal_examples = domain_model.corpus_count\n",
    "\tdomain_model.build_vocab([list(word2vec_model.vocab.keys())], update=True)\n",
    "\tdomain_model.intersect_word2vec_format(pretrained_embeddings_path, binary=True, lockf=lock_factor)\n",
    "\tdomain_model.train(corpus, total_examples=total_examples, epochs=1)\n",
    "\treturn domain_model"
   ]
  },
  {
   "cell_type": "code",
   "execution_count": 20,
   "metadata": {},
   "outputs": [],
   "source": [
    "domain_model = get_domain_model(sents, word2vec_model)"
   ]
  },
  {
   "cell_type": "code",
   "execution_count": 21,
   "metadata": {},
   "outputs": [],
   "source": [
    "domain_model.wv.save(model_path) # save fine-tuned model"
   ]
  },
  {
   "cell_type": "code",
   "execution_count": 22,
   "metadata": {},
   "outputs": [],
   "source": [
    "dm = KeyedVectors.load('/MTP/w2v-models/all_w2v') # load model"
   ]
  },
  {
   "cell_type": "code",
   "execution_count": null,
   "metadata": {},
   "outputs": [],
   "source": []
  }
 ],
 "metadata": {
  "kernelspec": {
   "display_name": "Python 3",
   "language": "python",
   "name": "python3"
  },
  "language_info": {
   "codemirror_mode": {
    "name": "ipython",
    "version": 3
   },
   "file_extension": ".py",
   "mimetype": "text/x-python",
   "name": "python",
   "nbconvert_exporter": "python",
   "pygments_lexer": "ipython3",
   "version": "3.7.0b3"
  }
 },
 "nbformat": 4,
 "nbformat_minor": 2
}
